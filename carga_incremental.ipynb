{
 "cells": [
  {
   "cell_type": "markdown",
   "metadata": {},
   "source": [
    "Carga Incremental"
   ]
  },
  {
   "cell_type": "markdown",
   "metadata": {},
   "source": [
    "Se realizó la carga incremental desde Python a MySQL, para lo cual se creó el database y se armó la estructura de la tabla antes de ser ingestadoslos datos mediante la carga incremental."
   ]
  },
  {
   "cell_type": "code",
   "execution_count": 1,
   "metadata": {},
   "outputs": [],
   "source": [
    "import mysql.connector\n",
    "import pandas as pd"
   ]
  },
  {
   "cell_type": "code",
   "execution_count": 2,
   "metadata": {},
   "outputs": [
    {
     "name": "stdout",
     "output_type": "stream",
     "text": [
      "Conexión a MySQL exitosa.\n",
      "('hechos_victimas',)\n"
     ]
    }
   ],
   "source": [
    "\n",
    "# Establecer la conexión a MySQL\n",
    "try:\n",
    "    connection = mysql.connector.connect(\n",
    "        user='root',\n",
    "        password='Milito3',\n",
    "        host='localhost',\n",
    "        database='proyecto_pbi'\n",
    "    )\n",
    "\n",
    "    if connection.is_connected():\n",
    "        print(\"Conexión a MySQL exitosa.\")\n",
    "    else:\n",
    "        print(\"Error: No se pudo conectar a MySQL.\")\n",
    "except mysql.connector.Error as e:\n",
    "    print(f\"Error al conectar a MySQL: {e}\")\n",
    "\n",
    "# Verificar si la conexión está activa antes de continuar\n",
    "if connection.is_connected():\n",
    "    # Crear un cursor\n",
    "    cursor = connection.cursor()\n",
    "\n",
    "    # Ejecutar la consulta para mostrar las tablas en la base de datos\n",
    "    cursor.execute(\"SHOW TABLES\")\n",
    "\n",
    "    # Obtener los resultados de la consulta\n",
    "    tables = cursor.fetchall()\n",
    "    \n",
    "       # Imprimir las tablas\n",
    "    for table in tables:\n",
    "        print(table)\n",
    "\n",
    "    # Iterar sobre cada fila del DataFrame\n",
    "    df = pd.read_csv(r'C:/Users/rossa/Desktop/HENRY/PROYECTO INDIVIDUAL PB/df_hechos_victimas.csv')\n",
    "    for i, fila in df.iterrows():\n",
    "        # Crear la sentencia SQL de inserción con los campos correspondientes\n",
    "        sql = \"INSERT INTO hechos_victimas (id, n_victimas, lugar_del_hecho, comuna, altura, participantes, calle, acusado, tipo_de_calle, hora, id_hecho, fecha, aaaa, mm, dd, rol, victima, sexo, edad, fecha_fallecimiento) VALUES (%s, %s, %s, %s, %s, %s, %s, %s, %s, %s, %s, %s, %s, %s, %s, %s, %s, %s, %s, %s)\"\n",
    "       \n",
    "        # Extraer los valores de la fila actual y convertirlos a tupla\n",
    "        valores = tuple(fila)\n",
    "       \n",
    "        # Ejecutar la sentencia SQL con los valores de la fila actual\n",
    "        cursor.execute(sql, valores)\n",
    "\n",
    "    # Confirmar los cambios en la base de datos\n",
    "    connection.commit()\n",
    "\n",
    "    # Cerrar el cursor y la conexión\n",
    "    cursor.close()\n",
    "    connection.close()\n",
    "else:\n",
    "    print(\"La conexión a MySQL no está activa. No se ejecutaron consultas.\")\n",
    "\n"
   ]
  }
 ],
 "metadata": {
  "kernelspec": {
   "display_name": "Python 3",
   "language": "python",
   "name": "python3"
  },
  "language_info": {
   "codemirror_mode": {
    "name": "ipython",
    "version": 3
   },
   "file_extension": ".py",
   "mimetype": "text/x-python",
   "name": "python",
   "nbconvert_exporter": "python",
   "pygments_lexer": "ipython3",
   "version": "3.10.6"
  },
  "orig_nbformat": 4
 },
 "nbformat": 4,
 "nbformat_minor": 2
}
