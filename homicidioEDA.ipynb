{
 "cells": [
  {
   "cell_type": "code",
   "execution_count": 54,
   "metadata": {},
   "outputs": [],
   "source": [
    "import pandas as pd\n",
    "import openpyxl\n",
    "import matplotlib.pyplot as plt"
   ]
  },
  {
   "cell_type": "markdown",
   "metadata": {},
   "source": [
    "Archivo hechos. Transformación a DF"
   ]
  },
  {
   "cell_type": "code",
   "execution_count": 55,
   "metadata": {},
   "outputs": [],
   "source": [
    "df = pd.read_excel(r\"homicidios.xlsx\", sheet_name= \"HECHOS\")\n"
   ]
  },
  {
   "cell_type": "code",
   "execution_count": 56,
   "metadata": {},
   "outputs": [
    {
     "data": {
      "text/html": [
       "<div>\n",
       "<style scoped>\n",
       "    .dataframe tbody tr th:only-of-type {\n",
       "        vertical-align: middle;\n",
       "    }\n",
       "\n",
       "    .dataframe tbody tr th {\n",
       "        vertical-align: top;\n",
       "    }\n",
       "\n",
       "    .dataframe thead th {\n",
       "        text-align: right;\n",
       "    }\n",
       "</style>\n",
       "<table border=\"1\" class=\"dataframe\">\n",
       "  <thead>\n",
       "    <tr style=\"text-align: right;\">\n",
       "      <th></th>\n",
       "      <th>ID</th>\n",
       "      <th>N_VICTIMAS</th>\n",
       "      <th>FECHA</th>\n",
       "      <th>AAAA</th>\n",
       "      <th>MM</th>\n",
       "      <th>DD</th>\n",
       "      <th>HORA</th>\n",
       "      <th>HH</th>\n",
       "      <th>LUGAR_DEL_HECHO</th>\n",
       "      <th>TIPO_DE_CALLE</th>\n",
       "      <th>...</th>\n",
       "      <th>Altura</th>\n",
       "      <th>Cruce</th>\n",
       "      <th>Dirección Normalizada</th>\n",
       "      <th>COMUNA</th>\n",
       "      <th>XY (CABA)</th>\n",
       "      <th>pos x</th>\n",
       "      <th>pos y</th>\n",
       "      <th>PARTICIPANTES</th>\n",
       "      <th>VICTIMA</th>\n",
       "      <th>ACUSADO</th>\n",
       "    </tr>\n",
       "  </thead>\n",
       "  <tbody>\n",
       "    <tr>\n",
       "      <th>0</th>\n",
       "      <td>2016-0001</td>\n",
       "      <td>1</td>\n",
       "      <td>2016-01-01</td>\n",
       "      <td>2016</td>\n",
       "      <td>1</td>\n",
       "      <td>1</td>\n",
       "      <td>04:00:00</td>\n",
       "      <td>4</td>\n",
       "      <td>AV PIEDRA BUENA Y AV FERNANDEZ DE LA CRUZ</td>\n",
       "      <td>AVENIDA</td>\n",
       "      <td>...</td>\n",
       "      <td>NaN</td>\n",
       "      <td>FERNANDEZ DE LA CRUZ, F., GRAL. AV.</td>\n",
       "      <td>PIEDRA BUENA AV. y FERNANDEZ DE LA CRUZ, F., G...</td>\n",
       "      <td>8</td>\n",
       "      <td>Point (98896.78238426 93532.43437792)</td>\n",
       "      <td>-58.47533969</td>\n",
       "      <td>-34.68757022</td>\n",
       "      <td>MOTO-AUTO</td>\n",
       "      <td>MOTO</td>\n",
       "      <td>AUTO</td>\n",
       "    </tr>\n",
       "    <tr>\n",
       "      <th>1</th>\n",
       "      <td>2016-0002</td>\n",
       "      <td>1</td>\n",
       "      <td>2016-01-02</td>\n",
       "      <td>2016</td>\n",
       "      <td>1</td>\n",
       "      <td>2</td>\n",
       "      <td>01:15:00</td>\n",
       "      <td>1</td>\n",
       "      <td>AV GRAL PAZ  Y AV DE LOS CORRALES</td>\n",
       "      <td>GRAL PAZ</td>\n",
       "      <td>...</td>\n",
       "      <td>NaN</td>\n",
       "      <td>DE LOS CORRALES AV.</td>\n",
       "      <td>PAZ, GRAL. AV. y DE LOS CORRALES AV.</td>\n",
       "      <td>9</td>\n",
       "      <td>Point (95832.05571093 95505.41641999)</td>\n",
       "      <td>-58.50877521</td>\n",
       "      <td>-34.66977709</td>\n",
       "      <td>AUTO-PASAJEROS</td>\n",
       "      <td>AUTO</td>\n",
       "      <td>PASAJEROS</td>\n",
       "    </tr>\n",
       "  </tbody>\n",
       "</table>\n",
       "<p>2 rows × 21 columns</p>\n",
       "</div>"
      ],
      "text/plain": [
       "          ID  N_VICTIMAS      FECHA  AAAA  MM  DD      HORA HH   \n",
       "0  2016-0001           1 2016-01-01  2016   1   1  04:00:00  4  \\\n",
       "1  2016-0002           1 2016-01-02  2016   1   2  01:15:00  1   \n",
       "\n",
       "                             LUGAR_DEL_HECHO TIPO_DE_CALLE  ... Altura   \n",
       "0  AV PIEDRA BUENA Y AV FERNANDEZ DE LA CRUZ       AVENIDA  ...    NaN  \\\n",
       "1          AV GRAL PAZ  Y AV DE LOS CORRALES      GRAL PAZ  ...    NaN   \n",
       "\n",
       "                                 Cruce   \n",
       "0  FERNANDEZ DE LA CRUZ, F., GRAL. AV.  \\\n",
       "1                  DE LOS CORRALES AV.   \n",
       "\n",
       "                               Dirección Normalizada COMUNA   \n",
       "0  PIEDRA BUENA AV. y FERNANDEZ DE LA CRUZ, F., G...      8  \\\n",
       "1               PAZ, GRAL. AV. y DE LOS CORRALES AV.      9   \n",
       "\n",
       "                               XY (CABA)         pos x         pos y   \n",
       "0  Point (98896.78238426 93532.43437792)  -58.47533969  -34.68757022  \\\n",
       "1  Point (95832.05571093 95505.41641999)  -58.50877521  -34.66977709   \n",
       "\n",
       "    PARTICIPANTES VICTIMA    ACUSADO  \n",
       "0       MOTO-AUTO    MOTO       AUTO  \n",
       "1  AUTO-PASAJEROS    AUTO  PASAJEROS  \n",
       "\n",
       "[2 rows x 21 columns]"
      ]
     },
     "execution_count": 56,
     "metadata": {},
     "output_type": "execute_result"
    }
   ],
   "source": [
    "df.head(2)"
   ]
  },
  {
   "cell_type": "markdown",
   "metadata": {},
   "source": [
    "Cambiar a minúsculas el txt"
   ]
  },
  {
   "cell_type": "code",
   "execution_count": 57,
   "metadata": {},
   "outputs": [],
   "source": [
    "\n",
    "df_h = df.applymap(lambda x: x.lower() if isinstance(x, str) else x)"
   ]
  },
  {
   "cell_type": "markdown",
   "metadata": {},
   "source": [
    "Cambiar a minúsculas nombres de las columnas"
   ]
  },
  {
   "cell_type": "code",
   "execution_count": 58,
   "metadata": {},
   "outputs": [],
   "source": [
    "df_h.columns = df.columns.str.lower()"
   ]
  },
  {
   "cell_type": "code",
   "execution_count": 59,
   "metadata": {},
   "outputs": [
    {
     "data": {
      "text/html": [
       "<div>\n",
       "<style scoped>\n",
       "    .dataframe tbody tr th:only-of-type {\n",
       "        vertical-align: middle;\n",
       "    }\n",
       "\n",
       "    .dataframe tbody tr th {\n",
       "        vertical-align: top;\n",
       "    }\n",
       "\n",
       "    .dataframe thead th {\n",
       "        text-align: right;\n",
       "    }\n",
       "</style>\n",
       "<table border=\"1\" class=\"dataframe\">\n",
       "  <thead>\n",
       "    <tr style=\"text-align: right;\">\n",
       "      <th></th>\n",
       "      <th>id</th>\n",
       "      <th>n_victimas</th>\n",
       "      <th>fecha</th>\n",
       "      <th>aaaa</th>\n",
       "      <th>mm</th>\n",
       "      <th>dd</th>\n",
       "      <th>hora</th>\n",
       "      <th>hh</th>\n",
       "      <th>lugar_del_hecho</th>\n",
       "      <th>tipo_de_calle</th>\n",
       "      <th>...</th>\n",
       "      <th>altura</th>\n",
       "      <th>cruce</th>\n",
       "      <th>dirección normalizada</th>\n",
       "      <th>comuna</th>\n",
       "      <th>xy (caba)</th>\n",
       "      <th>pos x</th>\n",
       "      <th>pos y</th>\n",
       "      <th>participantes</th>\n",
       "      <th>victima</th>\n",
       "      <th>acusado</th>\n",
       "    </tr>\n",
       "  </thead>\n",
       "  <tbody>\n",
       "    <tr>\n",
       "      <th>0</th>\n",
       "      <td>2016-0001</td>\n",
       "      <td>1</td>\n",
       "      <td>2016-01-01</td>\n",
       "      <td>2016</td>\n",
       "      <td>1</td>\n",
       "      <td>1</td>\n",
       "      <td>04:00:00</td>\n",
       "      <td>4</td>\n",
       "      <td>av piedra buena y av fernandez de la cruz</td>\n",
       "      <td>avenida</td>\n",
       "      <td>...</td>\n",
       "      <td>NaN</td>\n",
       "      <td>fernandez de la cruz, f., gral. av.</td>\n",
       "      <td>piedra buena av. y fernandez de la cruz, f., g...</td>\n",
       "      <td>8</td>\n",
       "      <td>point (98896.78238426 93532.43437792)</td>\n",
       "      <td>-58.47533969</td>\n",
       "      <td>-34.68757022</td>\n",
       "      <td>moto-auto</td>\n",
       "      <td>moto</td>\n",
       "      <td>auto</td>\n",
       "    </tr>\n",
       "    <tr>\n",
       "      <th>1</th>\n",
       "      <td>2016-0002</td>\n",
       "      <td>1</td>\n",
       "      <td>2016-01-02</td>\n",
       "      <td>2016</td>\n",
       "      <td>1</td>\n",
       "      <td>2</td>\n",
       "      <td>01:15:00</td>\n",
       "      <td>1</td>\n",
       "      <td>av gral paz  y av de los corrales</td>\n",
       "      <td>gral paz</td>\n",
       "      <td>...</td>\n",
       "      <td>NaN</td>\n",
       "      <td>de los corrales av.</td>\n",
       "      <td>paz, gral. av. y de los corrales av.</td>\n",
       "      <td>9</td>\n",
       "      <td>point (95832.05571093 95505.41641999)</td>\n",
       "      <td>-58.50877521</td>\n",
       "      <td>-34.66977709</td>\n",
       "      <td>auto-pasajeros</td>\n",
       "      <td>auto</td>\n",
       "      <td>pasajeros</td>\n",
       "    </tr>\n",
       "  </tbody>\n",
       "</table>\n",
       "<p>2 rows × 21 columns</p>\n",
       "</div>"
      ],
      "text/plain": [
       "          id  n_victimas      fecha  aaaa  mm  dd      hora hh   \n",
       "0  2016-0001           1 2016-01-01  2016   1   1  04:00:00  4  \\\n",
       "1  2016-0002           1 2016-01-02  2016   1   2  01:15:00  1   \n",
       "\n",
       "                             lugar_del_hecho tipo_de_calle  ... altura   \n",
       "0  av piedra buena y av fernandez de la cruz       avenida  ...    NaN  \\\n",
       "1          av gral paz  y av de los corrales      gral paz  ...    NaN   \n",
       "\n",
       "                                 cruce   \n",
       "0  fernandez de la cruz, f., gral. av.  \\\n",
       "1                  de los corrales av.   \n",
       "\n",
       "                               dirección normalizada comuna   \n",
       "0  piedra buena av. y fernandez de la cruz, f., g...      8  \\\n",
       "1               paz, gral. av. y de los corrales av.      9   \n",
       "\n",
       "                               xy (caba)         pos x         pos y   \n",
       "0  point (98896.78238426 93532.43437792)  -58.47533969  -34.68757022  \\\n",
       "1  point (95832.05571093 95505.41641999)  -58.50877521  -34.66977709   \n",
       "\n",
       "    participantes victima    acusado  \n",
       "0       moto-auto    moto       auto  \n",
       "1  auto-pasajeros    auto  pasajeros  \n",
       "\n",
       "[2 rows x 21 columns]"
      ]
     },
     "execution_count": 59,
     "metadata": {},
     "output_type": "execute_result"
    }
   ],
   "source": [
    "df_h.head(2)"
   ]
  },
  {
   "cell_type": "markdown",
   "metadata": {},
   "source": [
    "Verificación de presencia de duplicados en la columna \"id\""
   ]
  },
  {
   "cell_type": "code",
   "execution_count": 60,
   "metadata": {},
   "outputs": [],
   "source": [
    "duplicados = df_h[\"id\"].duplicated().sum()"
   ]
  },
  {
   "cell_type": "code",
   "execution_count": 61,
   "metadata": {},
   "outputs": [
    {
     "data": {
      "text/plain": [
       "0"
      ]
     },
     "execution_count": 61,
     "metadata": {},
     "output_type": "execute_result"
    }
   ],
   "source": [
    "duplicados"
   ]
  },
  {
   "cell_type": "markdown",
   "metadata": {},
   "source": [
    "Visualización tipo de datos y presencia de nulos por columa"
   ]
  },
  {
   "cell_type": "code",
   "execution_count": 62,
   "metadata": {},
   "outputs": [
    {
     "name": "stdout",
     "output_type": "stream",
     "text": [
      "<class 'pandas.core.frame.DataFrame'>\n",
      "RangeIndex: 696 entries, 0 to 695\n",
      "Data columns (total 21 columns):\n",
      " #   Column                 Non-Null Count  Dtype         \n",
      "---  ------                 --------------  -----         \n",
      " 0   id                     696 non-null    object        \n",
      " 1   n_victimas             696 non-null    int64         \n",
      " 2   fecha                  696 non-null    datetime64[ns]\n",
      " 3   aaaa                   696 non-null    int64         \n",
      " 4   mm                     696 non-null    int64         \n",
      " 5   dd                     696 non-null    int64         \n",
      " 6   hora                   696 non-null    object        \n",
      " 7   hh                     696 non-null    object        \n",
      " 8   lugar_del_hecho        696 non-null    object        \n",
      " 9   tipo_de_calle          696 non-null    object        \n",
      " 10  calle                  695 non-null    object        \n",
      " 11  altura                 129 non-null    float64       \n",
      " 12  cruce                  525 non-null    object        \n",
      " 13  dirección normalizada  688 non-null    object        \n",
      " 14  comuna                 696 non-null    int64         \n",
      " 15  xy (caba)              696 non-null    object        \n",
      " 16  pos x                  696 non-null    object        \n",
      " 17  pos y                  696 non-null    object        \n",
      " 18  participantes          696 non-null    object        \n",
      " 19  victima                696 non-null    object        \n",
      " 20  acusado                696 non-null    object        \n",
      "dtypes: datetime64[ns](1), float64(1), int64(5), object(14)\n",
      "memory usage: 114.3+ KB\n"
     ]
    }
   ],
   "source": [
    "df_h.info()"
   ]
  },
  {
   "cell_type": "markdown",
   "metadata": {},
   "source": [
    "Visualización y suma de valores nulos por columna"
   ]
  },
  {
   "cell_type": "code",
   "execution_count": 63,
   "metadata": {},
   "outputs": [
    {
     "data": {
      "text/plain": [
       "id                         0\n",
       "n_victimas                 0\n",
       "fecha                      0\n",
       "aaaa                       0\n",
       "mm                         0\n",
       "dd                         0\n",
       "hora                       0\n",
       "hh                         0\n",
       "lugar_del_hecho            0\n",
       "tipo_de_calle              0\n",
       "calle                      1\n",
       "altura                   567\n",
       "cruce                    171\n",
       "dirección normalizada      8\n",
       "comuna                     0\n",
       "xy (caba)                  0\n",
       "pos x                      0\n",
       "pos y                      0\n",
       "participantes              0\n",
       "victima                    0\n",
       "acusado                    0\n",
       "dtype: int64"
      ]
     },
     "execution_count": 63,
     "metadata": {},
     "output_type": "execute_result"
    }
   ],
   "source": [
    "df_h.isnull().sum()\n"
   ]
  },
  {
   "cell_type": "markdown",
   "metadata": {},
   "source": [
    "Reemplazar valores nulos en la columna 'altura' y \"calle\" por 'sin dato'"
   ]
  },
  {
   "cell_type": "code",
   "execution_count": 64,
   "metadata": {},
   "outputs": [],
   "source": [
    "\n",
    "df_h['calle'].fillna('sin dato', inplace=True)\n",
    "df_h['altura'].fillna('sin dato', inplace=True)"
   ]
  },
  {
   "cell_type": "code",
   "execution_count": 65,
   "metadata": {},
   "outputs": [
    {
     "data": {
      "text/html": [
       "<div>\n",
       "<style scoped>\n",
       "    .dataframe tbody tr th:only-of-type {\n",
       "        vertical-align: middle;\n",
       "    }\n",
       "\n",
       "    .dataframe tbody tr th {\n",
       "        vertical-align: top;\n",
       "    }\n",
       "\n",
       "    .dataframe thead th {\n",
       "        text-align: right;\n",
       "    }\n",
       "</style>\n",
       "<table border=\"1\" class=\"dataframe\">\n",
       "  <thead>\n",
       "    <tr style=\"text-align: right;\">\n",
       "      <th></th>\n",
       "      <th>id</th>\n",
       "      <th>n_victimas</th>\n",
       "      <th>fecha</th>\n",
       "      <th>aaaa</th>\n",
       "      <th>mm</th>\n",
       "      <th>dd</th>\n",
       "      <th>hora</th>\n",
       "      <th>hh</th>\n",
       "      <th>lugar_del_hecho</th>\n",
       "      <th>tipo_de_calle</th>\n",
       "      <th>...</th>\n",
       "      <th>altura</th>\n",
       "      <th>cruce</th>\n",
       "      <th>dirección normalizada</th>\n",
       "      <th>comuna</th>\n",
       "      <th>xy (caba)</th>\n",
       "      <th>pos x</th>\n",
       "      <th>pos y</th>\n",
       "      <th>participantes</th>\n",
       "      <th>victima</th>\n",
       "      <th>acusado</th>\n",
       "    </tr>\n",
       "  </thead>\n",
       "  <tbody>\n",
       "    <tr>\n",
       "      <th>518</th>\n",
       "      <td>2019-0103</td>\n",
       "      <td>1</td>\n",
       "      <td>2019-12-18</td>\n",
       "      <td>2019</td>\n",
       "      <td>12</td>\n",
       "      <td>18</td>\n",
       "      <td>sd</td>\n",
       "      <td>sd</td>\n",
       "      <td>paz, gral. av. y griveo</td>\n",
       "      <td>gral paz</td>\n",
       "      <td>...</td>\n",
       "      <td>sin dato</td>\n",
       "      <td>griveo</td>\n",
       "      <td>paz, gral. av. y griveo</td>\n",
       "      <td>11</td>\n",
       "      <td>point (94643.11254058 103831.57115061)</td>\n",
       "      <td>-58.52169422</td>\n",
       "      <td>-34.59471640</td>\n",
       "      <td>moto-moto</td>\n",
       "      <td>moto</td>\n",
       "      <td>moto</td>\n",
       "    </tr>\n",
       "  </tbody>\n",
       "</table>\n",
       "<p>1 rows × 21 columns</p>\n",
       "</div>"
      ],
      "text/plain": [
       "            id  n_victimas      fecha  aaaa  mm  dd hora  hh   \n",
       "518  2019-0103           1 2019-12-18  2019  12  18   sd  sd  \\\n",
       "\n",
       "             lugar_del_hecho tipo_de_calle  ...    altura   cruce   \n",
       "518  paz, gral. av. y griveo      gral paz  ...  sin dato  griveo  \\\n",
       "\n",
       "       dirección normalizada comuna                               xy (caba)   \n",
       "518  paz, gral. av. y griveo     11  point (94643.11254058 103831.57115061)  \\\n",
       "\n",
       "            pos x         pos y participantes victima acusado  \n",
       "518  -58.52169422  -34.59471640     moto-moto    moto    moto  \n",
       "\n",
       "[1 rows x 21 columns]"
      ]
     },
     "execution_count": 65,
     "metadata": {},
     "output_type": "execute_result"
    }
   ],
   "source": [
    "df_h.sample()"
   ]
  },
  {
   "cell_type": "markdown",
   "metadata": {},
   "source": [
    "Transformación del tipo de dato de la cokumna \"comuna\" de int a str"
   ]
  },
  {
   "cell_type": "code",
   "execution_count": 66,
   "metadata": {},
   "outputs": [],
   "source": [
    "df_h['comuna'] = df_h['comuna'].astype(str)"
   ]
  },
  {
   "cell_type": "markdown",
   "metadata": {},
   "source": [
    "Verificación de columnas"
   ]
  },
  {
   "cell_type": "code",
   "execution_count": 67,
   "metadata": {},
   "outputs": [
    {
     "data": {
      "text/plain": [
       "Index(['id', 'n_victimas', 'fecha', 'aaaa', 'mm', 'dd', 'hora', 'hh',\n",
       "       'lugar_del_hecho', 'tipo_de_calle', 'calle', 'altura', 'cruce',\n",
       "       'dirección normalizada', 'comuna', 'xy (caba)', 'pos x', 'pos y',\n",
       "       'participantes', 'victima', 'acusado'],\n",
       "      dtype='object')"
      ]
     },
     "execution_count": 67,
     "metadata": {},
     "output_type": "execute_result"
    }
   ],
   "source": [
    "df_h.columns"
   ]
  },
  {
   "cell_type": "markdown",
   "metadata": {},
   "source": [
    "Selección de columnas y creacion de df_hechos"
   ]
  },
  {
   "cell_type": "code",
   "execution_count": 68,
   "metadata": {},
   "outputs": [],
   "source": [
    "df_hechos = df_h [['id', 'n_victimas', 'hora', \n",
    "       'lugar_del_hecho', 'calle', 'altura',\n",
    "        'comuna', 'tipo_de_calle', \n",
    "       'participantes', 'victima', 'acusado']]"
   ]
  },
  {
   "cell_type": "code",
   "execution_count": 69,
   "metadata": {},
   "outputs": [
    {
     "data": {
      "text/html": [
       "<div>\n",
       "<style scoped>\n",
       "    .dataframe tbody tr th:only-of-type {\n",
       "        vertical-align: middle;\n",
       "    }\n",
       "\n",
       "    .dataframe tbody tr th {\n",
       "        vertical-align: top;\n",
       "    }\n",
       "\n",
       "    .dataframe thead th {\n",
       "        text-align: right;\n",
       "    }\n",
       "</style>\n",
       "<table border=\"1\" class=\"dataframe\">\n",
       "  <thead>\n",
       "    <tr style=\"text-align: right;\">\n",
       "      <th></th>\n",
       "      <th>id</th>\n",
       "      <th>n_victimas</th>\n",
       "      <th>hora</th>\n",
       "      <th>lugar_del_hecho</th>\n",
       "      <th>calle</th>\n",
       "      <th>altura</th>\n",
       "      <th>comuna</th>\n",
       "      <th>tipo_de_calle</th>\n",
       "      <th>participantes</th>\n",
       "      <th>victima</th>\n",
       "      <th>acusado</th>\n",
       "    </tr>\n",
       "  </thead>\n",
       "  <tbody>\n",
       "    <tr>\n",
       "      <th>0</th>\n",
       "      <td>2016-0001</td>\n",
       "      <td>1</td>\n",
       "      <td>04:00:00</td>\n",
       "      <td>av piedra buena y av fernandez de la cruz</td>\n",
       "      <td>piedra buena av.</td>\n",
       "      <td>sin dato</td>\n",
       "      <td>8</td>\n",
       "      <td>avenida</td>\n",
       "      <td>moto-auto</td>\n",
       "      <td>moto</td>\n",
       "      <td>auto</td>\n",
       "    </tr>\n",
       "    <tr>\n",
       "      <th>1</th>\n",
       "      <td>2016-0002</td>\n",
       "      <td>1</td>\n",
       "      <td>01:15:00</td>\n",
       "      <td>av gral paz  y av de los corrales</td>\n",
       "      <td>paz, gral. av.</td>\n",
       "      <td>sin dato</td>\n",
       "      <td>9</td>\n",
       "      <td>gral paz</td>\n",
       "      <td>auto-pasajeros</td>\n",
       "      <td>auto</td>\n",
       "      <td>pasajeros</td>\n",
       "    </tr>\n",
       "  </tbody>\n",
       "</table>\n",
       "</div>"
      ],
      "text/plain": [
       "          id  n_victimas      hora                            lugar_del_hecho   \n",
       "0  2016-0001           1  04:00:00  av piedra buena y av fernandez de la cruz  \\\n",
       "1  2016-0002           1  01:15:00          av gral paz  y av de los corrales   \n",
       "\n",
       "              calle    altura comuna tipo_de_calle   participantes victima   \n",
       "0  piedra buena av.  sin dato      8       avenida       moto-auto    moto  \\\n",
       "1    paz, gral. av.  sin dato      9      gral paz  auto-pasajeros    auto   \n",
       "\n",
       "     acusado  \n",
       "0       auto  \n",
       "1  pasajeros  "
      ]
     },
     "execution_count": 69,
     "metadata": {},
     "output_type": "execute_result"
    }
   ],
   "source": [
    "df_hechos.head(2)"
   ]
  },
  {
   "cell_type": "code",
   "execution_count": 70,
   "metadata": {},
   "outputs": [
    {
     "name": "stdout",
     "output_type": "stream",
     "text": [
      "id                 [2016-0001, 2016-0002, 2016-0003, 2016-0004, 2...\n",
      "n_victimas                                                 [1, 2, 3]\n",
      "hora               [04:00:00, 01:15:00, 07:00:00, 00:00:00, 05:20...\n",
      "lugar_del_hecho    [av piedra buena y av fernandez de la cruz, av...\n",
      "calle              [piedra buena av., paz, gral. av., entre rios ...\n",
      "altura             [sin dato, 2034.0, 1366.0, 156.0, 1483.0, 30.0...\n",
      "comuna             [8, 9, 1, 11, 15, 4, 7, 12, 3, 13, 14, 10, 6, ...\n",
      "tipo_de_calle                  [avenida, gral paz, calle, autopista]\n",
      "participantes      [moto-auto, auto-pasajeros, moto-sd, moto-pasa...\n",
      "victima            [moto, auto, peaton, sd, cargas, bicicleta, pa...\n",
      "acusado            [auto, pasajeros, sd, objeto fijo, cargas, mot...\n",
      "dtype: object\n"
     ]
    }
   ],
   "source": [
    "valores_unicos = df_hechos.apply(lambda x: x.unique())\n",
    "print(valores_unicos)"
   ]
  },
  {
   "cell_type": "markdown",
   "metadata": {},
   "source": [
    "Filtrar y seleccionar desde la columna \"aaaa\" años 2020 y 2021"
   ]
  },
  {
   "cell_type": "code",
   "execution_count": 71,
   "metadata": {},
   "outputs": [],
   "source": [
    "#df_hechos = df_hechos[(df_hechos['aaaa'] == 2020) | (df_hechos['aaaa'] == 2021)]\n",
    "#df_hechos.head(2)"
   ]
  },
  {
   "cell_type": "markdown",
   "metadata": {},
   "source": [
    "Archivo víctimas. Transformación a DF"
   ]
  },
  {
   "cell_type": "code",
   "execution_count": 72,
   "metadata": {},
   "outputs": [],
   "source": [
    "df_victimas = pd.read_excel(r\"homicidios.xlsx\", sheet_name= \"VICTIMAS\")"
   ]
  },
  {
   "cell_type": "code",
   "execution_count": 73,
   "metadata": {},
   "outputs": [
    {
     "data": {
      "text/html": [
       "<div>\n",
       "<style scoped>\n",
       "    .dataframe tbody tr th:only-of-type {\n",
       "        vertical-align: middle;\n",
       "    }\n",
       "\n",
       "    .dataframe tbody tr th {\n",
       "        vertical-align: top;\n",
       "    }\n",
       "\n",
       "    .dataframe thead th {\n",
       "        text-align: right;\n",
       "    }\n",
       "</style>\n",
       "<table border=\"1\" class=\"dataframe\">\n",
       "  <thead>\n",
       "    <tr style=\"text-align: right;\">\n",
       "      <th></th>\n",
       "      <th>ID_hecho</th>\n",
       "      <th>FECHA</th>\n",
       "      <th>AAAA</th>\n",
       "      <th>MM</th>\n",
       "      <th>DD</th>\n",
       "      <th>ROL</th>\n",
       "      <th>VICTIMA</th>\n",
       "      <th>SEXO</th>\n",
       "      <th>EDAD</th>\n",
       "      <th>FECHA_FALLECIMIENTO</th>\n",
       "    </tr>\n",
       "  </thead>\n",
       "  <tbody>\n",
       "    <tr>\n",
       "      <th>245</th>\n",
       "      <td>2017-0114</td>\n",
       "      <td>2017-09-15</td>\n",
       "      <td>2017</td>\n",
       "      <td>9</td>\n",
       "      <td>15</td>\n",
       "      <td>CONDUCTOR</td>\n",
       "      <td>AUTO</td>\n",
       "      <td>MASCULINO</td>\n",
       "      <td>26</td>\n",
       "      <td>2017-09-15 00:00:00</td>\n",
       "    </tr>\n",
       "    <tr>\n",
       "      <th>119</th>\n",
       "      <td>2016-0148</td>\n",
       "      <td>2016-11-16</td>\n",
       "      <td>2016</td>\n",
       "      <td>11</td>\n",
       "      <td>16</td>\n",
       "      <td>CONDUCTOR</td>\n",
       "      <td>MOTO</td>\n",
       "      <td>MASCULINO</td>\n",
       "      <td>SD</td>\n",
       "      <td>SD</td>\n",
       "    </tr>\n",
       "  </tbody>\n",
       "</table>\n",
       "</div>"
      ],
      "text/plain": [
       "      ID_hecho      FECHA  AAAA  MM  DD        ROL VICTIMA       SEXO EDAD   \n",
       "245  2017-0114 2017-09-15  2017   9  15  CONDUCTOR    AUTO  MASCULINO   26  \\\n",
       "119  2016-0148 2016-11-16  2016  11  16  CONDUCTOR    MOTO  MASCULINO   SD   \n",
       "\n",
       "     FECHA_FALLECIMIENTO  \n",
       "245  2017-09-15 00:00:00  \n",
       "119                   SD  "
      ]
     },
     "execution_count": 73,
     "metadata": {},
     "output_type": "execute_result"
    }
   ],
   "source": [
    "df_victimas.sample(2)"
   ]
  },
  {
   "cell_type": "markdown",
   "metadata": {},
   "source": [
    "Cambiar a minúscula todo el DF"
   ]
  },
  {
   "cell_type": "code",
   "execution_count": 74,
   "metadata": {},
   "outputs": [],
   "source": [
    "df_victimas= df_victimas.applymap(lambda x: x.lower() if isinstance(x, str) else x)"
   ]
  },
  {
   "cell_type": "markdown",
   "metadata": {},
   "source": [
    "Cambiar a minúscula los títulos de las columnas"
   ]
  },
  {
   "cell_type": "code",
   "execution_count": 75,
   "metadata": {},
   "outputs": [],
   "source": [
    "df_victimas.columns = df_victimas.columns.str.lower()"
   ]
  },
  {
   "cell_type": "code",
   "execution_count": 76,
   "metadata": {},
   "outputs": [
    {
     "data": {
      "text/html": [
       "<div>\n",
       "<style scoped>\n",
       "    .dataframe tbody tr th:only-of-type {\n",
       "        vertical-align: middle;\n",
       "    }\n",
       "\n",
       "    .dataframe tbody tr th {\n",
       "        vertical-align: top;\n",
       "    }\n",
       "\n",
       "    .dataframe thead th {\n",
       "        text-align: right;\n",
       "    }\n",
       "</style>\n",
       "<table border=\"1\" class=\"dataframe\">\n",
       "  <thead>\n",
       "    <tr style=\"text-align: right;\">\n",
       "      <th></th>\n",
       "      <th>id_hecho</th>\n",
       "      <th>fecha</th>\n",
       "      <th>aaaa</th>\n",
       "      <th>mm</th>\n",
       "      <th>dd</th>\n",
       "      <th>rol</th>\n",
       "      <th>victima</th>\n",
       "      <th>sexo</th>\n",
       "      <th>edad</th>\n",
       "      <th>fecha_fallecimiento</th>\n",
       "    </tr>\n",
       "  </thead>\n",
       "  <tbody>\n",
       "    <tr>\n",
       "      <th>69</th>\n",
       "      <td>2016-0092</td>\n",
       "      <td>2016-07-15</td>\n",
       "      <td>2016</td>\n",
       "      <td>7</td>\n",
       "      <td>15</td>\n",
       "      <td>conductor</td>\n",
       "      <td>moto</td>\n",
       "      <td>masculino</td>\n",
       "      <td>24</td>\n",
       "      <td>2016-07-15 00:00:00</td>\n",
       "    </tr>\n",
       "    <tr>\n",
       "      <th>412</th>\n",
       "      <td>2018-0122</td>\n",
       "      <td>2018-11-12</td>\n",
       "      <td>2018</td>\n",
       "      <td>11</td>\n",
       "      <td>12</td>\n",
       "      <td>conductor</td>\n",
       "      <td>auto</td>\n",
       "      <td>masculino</td>\n",
       "      <td>33</td>\n",
       "      <td>2018-11-12 00:00:00</td>\n",
       "    </tr>\n",
       "  </tbody>\n",
       "</table>\n",
       "</div>"
      ],
      "text/plain": [
       "      id_hecho      fecha  aaaa  mm  dd        rol victima       sexo edad   \n",
       "69   2016-0092 2016-07-15  2016   7  15  conductor    moto  masculino   24  \\\n",
       "412  2018-0122 2018-11-12  2018  11  12  conductor    auto  masculino   33   \n",
       "\n",
       "     fecha_fallecimiento  \n",
       "69   2016-07-15 00:00:00  \n",
       "412  2018-11-12 00:00:00  "
      ]
     },
     "execution_count": 76,
     "metadata": {},
     "output_type": "execute_result"
    }
   ],
   "source": [
    "df_victimas.sample(2)"
   ]
  },
  {
   "cell_type": "markdown",
   "metadata": {},
   "source": [
    "Encontrar valores duplicados en columna \"id_hecho\""
   ]
  },
  {
   "cell_type": "code",
   "execution_count": 77,
   "metadata": {},
   "outputs": [
    {
     "name": "stdout",
     "output_type": "stream",
     "text": [
      "Cantidad de duplicados en 'id_hecho': 21\n"
     ]
    }
   ],
   "source": [
    "duplicados = df_victimas[\"id_hecho\"].duplicated().sum()\n",
    "print(\"Cantidad de duplicados en 'id_hecho':\", duplicados)"
   ]
  },
  {
   "cell_type": "markdown",
   "metadata": {},
   "source": [
    "Encontrar valores nulos"
   ]
  },
  {
   "cell_type": "code",
   "execution_count": 78,
   "metadata": {},
   "outputs": [
    {
     "data": {
      "text/plain": [
       "id_hecho               0\n",
       "fecha                  0\n",
       "aaaa                   0\n",
       "mm                     0\n",
       "dd                     0\n",
       "rol                    0\n",
       "victima                0\n",
       "sexo                   0\n",
       "edad                   0\n",
       "fecha_fallecimiento    0\n",
       "dtype: int64"
      ]
     },
     "execution_count": 78,
     "metadata": {},
     "output_type": "execute_result"
    }
   ],
   "source": [
    "df_victimas.isnull().sum()"
   ]
  },
  {
   "cell_type": "markdown",
   "metadata": {},
   "source": [
    "Verificación tipo de dato por columna"
   ]
  },
  {
   "cell_type": "code",
   "execution_count": 79,
   "metadata": {},
   "outputs": [
    {
     "name": "stdout",
     "output_type": "stream",
     "text": [
      "<class 'pandas.core.frame.DataFrame'>\n",
      "RangeIndex: 717 entries, 0 to 716\n",
      "Data columns (total 10 columns):\n",
      " #   Column               Non-Null Count  Dtype         \n",
      "---  ------               --------------  -----         \n",
      " 0   id_hecho             717 non-null    object        \n",
      " 1   fecha                717 non-null    datetime64[ns]\n",
      " 2   aaaa                 717 non-null    int64         \n",
      " 3   mm                   717 non-null    int64         \n",
      " 4   dd                   717 non-null    int64         \n",
      " 5   rol                  717 non-null    object        \n",
      " 6   victima              717 non-null    object        \n",
      " 7   sexo                 717 non-null    object        \n",
      " 8   edad                 717 non-null    object        \n",
      " 9   fecha_fallecimiento  717 non-null    object        \n",
      "dtypes: datetime64[ns](1), int64(3), object(6)\n",
      "memory usage: 56.1+ KB\n"
     ]
    }
   ],
   "source": [
    "df_victimas.info()"
   ]
  },
  {
   "cell_type": "markdown",
   "metadata": {},
   "source": [
    "Verificar cantidad de valores únicos en la columna \"edad\""
   ]
  },
  {
   "cell_type": "code",
   "execution_count": 80,
   "metadata": {},
   "outputs": [
    {
     "data": {
      "text/plain": [
       "array([19, 70, 30, 18, 29, 22, 16, 59, 65, 34, 41, 50, 38, 21, 52, 36, 20,\n",
       "       54, 'sd', 56, 24, 78, 79, 26, 57, 37, 58, 23, 60, 42, 53, 51, 40,\n",
       "       87, 76, 75, 35, 80, 43, 45, 67, 27, 55, 49, 81, 25, 33, 46, 83, 39,\n",
       "       28, 7, 48, 4, 82, 32, 17, 47, 61, 10, 95, 73, 84, 66, 85, 1, 15,\n",
       "       13, 77, 44, 31, 62, 74, 71, 11, 86, 69, 72, 12, 63, 92, 68, 91, 64,\n",
       "       5, 88], dtype=object)"
      ]
     },
     "execution_count": 80,
     "metadata": {},
     "output_type": "execute_result"
    }
   ],
   "source": [
    "valores_no_validos = df_victimas[\"edad\"].unique()\n",
    "valores_no_validos"
   ]
  },
  {
   "cell_type": "markdown",
   "metadata": {},
   "source": [
    "Reemplazar el valor \"sd\" por 0"
   ]
  },
  {
   "cell_type": "code",
   "execution_count": 81,
   "metadata": {},
   "outputs": [],
   "source": [
    "df_victimas[\"edad\"] = df_victimas[\"edad\"].replace(\"sd\", 0)"
   ]
  },
  {
   "cell_type": "markdown",
   "metadata": {},
   "source": [
    "Transformar columna edad a tipo de dato int"
   ]
  },
  {
   "cell_type": "code",
   "execution_count": 82,
   "metadata": {},
   "outputs": [],
   "source": [
    "df_victimas[\"edad\"] = df_victimas[\"edad\"].astype(int)"
   ]
  },
  {
   "cell_type": "markdown",
   "metadata": {},
   "source": [
    " <Ddebido a que los dataFrames tienen la misma estructura y cuentan con datos relacionados y complementarios, se van a unir mediante un join, en un solo DataFrame. Facilitando la gestión de los datos y realizar un mejor análisis en conjunto."
   ]
  },
  {
   "cell_type": "markdown",
   "metadata": {},
   "source": [
    "* Selección de columnas para realizar el merge de df_hechos "
   ]
  },
  {
   "cell_type": "code",
   "execution_count": 83,
   "metadata": {},
   "outputs": [],
   "source": [
    "columnas = ['id', 'n_victimas', 'lugar_del_hecho', 'comuna', \"altura\", 'participantes',\"calle\",\"acusado\", 'tipo_de_calle',\"hora\" ]\n",
    "df_hechos_seleccionados = df_hechos[columnas] "
   ]
  },
  {
   "cell_type": "markdown",
   "metadata": {},
   "source": [
    "* Unión de ambos df mediante la función merge = join "
   ]
  },
  {
   "cell_type": "code",
   "execution_count": 84,
   "metadata": {},
   "outputs": [
    {
     "data": {
      "text/html": [
       "<div>\n",
       "<style scoped>\n",
       "    .dataframe tbody tr th:only-of-type {\n",
       "        vertical-align: middle;\n",
       "    }\n",
       "\n",
       "    .dataframe tbody tr th {\n",
       "        vertical-align: top;\n",
       "    }\n",
       "\n",
       "    .dataframe thead th {\n",
       "        text-align: right;\n",
       "    }\n",
       "</style>\n",
       "<table border=\"1\" class=\"dataframe\">\n",
       "  <thead>\n",
       "    <tr style=\"text-align: right;\">\n",
       "      <th></th>\n",
       "      <th>id</th>\n",
       "      <th>n_victimas</th>\n",
       "      <th>lugar_del_hecho</th>\n",
       "      <th>comuna</th>\n",
       "      <th>altura</th>\n",
       "      <th>participantes</th>\n",
       "      <th>calle</th>\n",
       "      <th>acusado</th>\n",
       "      <th>tipo_de_calle</th>\n",
       "      <th>hora</th>\n",
       "      <th>id_hecho</th>\n",
       "      <th>fecha</th>\n",
       "      <th>aaaa</th>\n",
       "      <th>mm</th>\n",
       "      <th>dd</th>\n",
       "      <th>rol</th>\n",
       "      <th>victima</th>\n",
       "      <th>sexo</th>\n",
       "      <th>edad</th>\n",
       "      <th>fecha_fallecimiento</th>\n",
       "    </tr>\n",
       "  </thead>\n",
       "  <tbody>\n",
       "    <tr>\n",
       "      <th>0</th>\n",
       "      <td>2016-0001</td>\n",
       "      <td>1</td>\n",
       "      <td>av piedra buena y av fernandez de la cruz</td>\n",
       "      <td>8</td>\n",
       "      <td>sin dato</td>\n",
       "      <td>moto-auto</td>\n",
       "      <td>piedra buena av.</td>\n",
       "      <td>auto</td>\n",
       "      <td>avenida</td>\n",
       "      <td>04:00:00</td>\n",
       "      <td>2016-0001</td>\n",
       "      <td>2016-01-01</td>\n",
       "      <td>2016</td>\n",
       "      <td>1</td>\n",
       "      <td>1</td>\n",
       "      <td>conductor</td>\n",
       "      <td>moto</td>\n",
       "      <td>masculino</td>\n",
       "      <td>19</td>\n",
       "      <td>2016-01-01 00:00:00</td>\n",
       "    </tr>\n",
       "    <tr>\n",
       "      <th>1</th>\n",
       "      <td>2016-0002</td>\n",
       "      <td>1</td>\n",
       "      <td>av gral paz  y av de los corrales</td>\n",
       "      <td>9</td>\n",
       "      <td>sin dato</td>\n",
       "      <td>auto-pasajeros</td>\n",
       "      <td>paz, gral. av.</td>\n",
       "      <td>pasajeros</td>\n",
       "      <td>gral paz</td>\n",
       "      <td>01:15:00</td>\n",
       "      <td>2016-0002</td>\n",
       "      <td>2016-01-02</td>\n",
       "      <td>2016</td>\n",
       "      <td>1</td>\n",
       "      <td>2</td>\n",
       "      <td>conductor</td>\n",
       "      <td>auto</td>\n",
       "      <td>masculino</td>\n",
       "      <td>70</td>\n",
       "      <td>2016-01-02 00:00:00</td>\n",
       "    </tr>\n",
       "  </tbody>\n",
       "</table>\n",
       "</div>"
      ],
      "text/plain": [
       "          id  n_victimas                            lugar_del_hecho comuna   \n",
       "0  2016-0001           1  av piedra buena y av fernandez de la cruz      8  \\\n",
       "1  2016-0002           1          av gral paz  y av de los corrales      9   \n",
       "\n",
       "     altura   participantes             calle    acusado tipo_de_calle   \n",
       "0  sin dato       moto-auto  piedra buena av.       auto       avenida  \\\n",
       "1  sin dato  auto-pasajeros    paz, gral. av.  pasajeros      gral paz   \n",
       "\n",
       "       hora   id_hecho      fecha  aaaa  mm  dd        rol victima       sexo   \n",
       "0  04:00:00  2016-0001 2016-01-01  2016   1   1  conductor    moto  masculino  \\\n",
       "1  01:15:00  2016-0002 2016-01-02  2016   1   2  conductor    auto  masculino   \n",
       "\n",
       "   edad  fecha_fallecimiento  \n",
       "0    19  2016-01-01 00:00:00  \n",
       "1    70  2016-01-02 00:00:00  "
      ]
     },
     "execution_count": 84,
     "metadata": {},
     "output_type": "execute_result"
    }
   ],
   "source": [
    "df_hechos_victimas = df_hechos_seleccionados.merge(df_victimas, left_on='id', right_on='id_hecho', how='inner')\n",
    "df_hechos_victimas.head(2)"
   ]
  },
  {
   "cell_type": "code",
   "execution_count": 85,
   "metadata": {},
   "outputs": [
    {
     "data": {
      "text/plain": [
       "id                     0\n",
       "n_victimas             0\n",
       "lugar_del_hecho        0\n",
       "comuna                 0\n",
       "altura                 0\n",
       "participantes          0\n",
       "calle                  0\n",
       "acusado                0\n",
       "tipo_de_calle          0\n",
       "hora                   0\n",
       "id_hecho               0\n",
       "fecha                  0\n",
       "aaaa                   0\n",
       "mm                     0\n",
       "dd                     0\n",
       "rol                    0\n",
       "victima                0\n",
       "sexo                   0\n",
       "edad                   0\n",
       "fecha_fallecimiento    0\n",
       "dtype: int64"
      ]
     },
     "execution_count": 85,
     "metadata": {},
     "output_type": "execute_result"
    }
   ],
   "source": [
    "df_hechos_victimas.isnull().sum()"
   ]
  },
  {
   "cell_type": "markdown",
   "metadata": {},
   "source": [
    "* Se convierten todos los valores de la columna \"fecha_fallecimiento\" a cadenas de texto (str) y luego se aplica str.split() para dividir la fecha y la hora"
   ]
  },
  {
   "cell_type": "code",
   "execution_count": 86,
   "metadata": {},
   "outputs": [
    {
     "data": {
      "text/html": [
       "<div>\n",
       "<style scoped>\n",
       "    .dataframe tbody tr th:only-of-type {\n",
       "        vertical-align: middle;\n",
       "    }\n",
       "\n",
       "    .dataframe tbody tr th {\n",
       "        vertical-align: top;\n",
       "    }\n",
       "\n",
       "    .dataframe thead th {\n",
       "        text-align: right;\n",
       "    }\n",
       "</style>\n",
       "<table border=\"1\" class=\"dataframe\">\n",
       "  <thead>\n",
       "    <tr style=\"text-align: right;\">\n",
       "      <th></th>\n",
       "      <th>id</th>\n",
       "      <th>n_victimas</th>\n",
       "      <th>lugar_del_hecho</th>\n",
       "      <th>comuna</th>\n",
       "      <th>altura</th>\n",
       "      <th>participantes</th>\n",
       "      <th>calle</th>\n",
       "      <th>acusado</th>\n",
       "      <th>tipo_de_calle</th>\n",
       "      <th>hora</th>\n",
       "      <th>id_hecho</th>\n",
       "      <th>fecha</th>\n",
       "      <th>aaaa</th>\n",
       "      <th>mm</th>\n",
       "      <th>dd</th>\n",
       "      <th>rol</th>\n",
       "      <th>victima</th>\n",
       "      <th>sexo</th>\n",
       "      <th>edad</th>\n",
       "      <th>fecha_fallecimiento</th>\n",
       "    </tr>\n",
       "  </thead>\n",
       "  <tbody>\n",
       "    <tr>\n",
       "      <th>0</th>\n",
       "      <td>2016-0001</td>\n",
       "      <td>1</td>\n",
       "      <td>av piedra buena y av fernandez de la cruz</td>\n",
       "      <td>8</td>\n",
       "      <td>sin dato</td>\n",
       "      <td>moto-auto</td>\n",
       "      <td>piedra buena av.</td>\n",
       "      <td>auto</td>\n",
       "      <td>avenida</td>\n",
       "      <td>04:00:00</td>\n",
       "      <td>2016-0001</td>\n",
       "      <td>2016-01-01</td>\n",
       "      <td>2016</td>\n",
       "      <td>1</td>\n",
       "      <td>1</td>\n",
       "      <td>conductor</td>\n",
       "      <td>moto</td>\n",
       "      <td>masculino</td>\n",
       "      <td>19</td>\n",
       "      <td>2016-01-01</td>\n",
       "    </tr>\n",
       "    <tr>\n",
       "      <th>1</th>\n",
       "      <td>2016-0002</td>\n",
       "      <td>1</td>\n",
       "      <td>av gral paz  y av de los corrales</td>\n",
       "      <td>9</td>\n",
       "      <td>sin dato</td>\n",
       "      <td>auto-pasajeros</td>\n",
       "      <td>paz, gral. av.</td>\n",
       "      <td>pasajeros</td>\n",
       "      <td>gral paz</td>\n",
       "      <td>01:15:00</td>\n",
       "      <td>2016-0002</td>\n",
       "      <td>2016-01-02</td>\n",
       "      <td>2016</td>\n",
       "      <td>1</td>\n",
       "      <td>2</td>\n",
       "      <td>conductor</td>\n",
       "      <td>auto</td>\n",
       "      <td>masculino</td>\n",
       "      <td>70</td>\n",
       "      <td>2016-01-02</td>\n",
       "    </tr>\n",
       "  </tbody>\n",
       "</table>\n",
       "</div>"
      ],
      "text/plain": [
       "          id  n_victimas                            lugar_del_hecho comuna   \n",
       "0  2016-0001           1  av piedra buena y av fernandez de la cruz      8  \\\n",
       "1  2016-0002           1          av gral paz  y av de los corrales      9   \n",
       "\n",
       "     altura   participantes             calle    acusado tipo_de_calle   \n",
       "0  sin dato       moto-auto  piedra buena av.       auto       avenida  \\\n",
       "1  sin dato  auto-pasajeros    paz, gral. av.  pasajeros      gral paz   \n",
       "\n",
       "       hora   id_hecho      fecha  aaaa  mm  dd        rol victima       sexo   \n",
       "0  04:00:00  2016-0001 2016-01-01  2016   1   1  conductor    moto  masculino  \\\n",
       "1  01:15:00  2016-0002 2016-01-02  2016   1   2  conductor    auto  masculino   \n",
       "\n",
       "   edad fecha_fallecimiento  \n",
       "0    19          2016-01-01  \n",
       "1    70          2016-01-02  "
      ]
     },
     "execution_count": 86,
     "metadata": {},
     "output_type": "execute_result"
    }
   ],
   "source": [
    "df_hechos_victimas['fecha_fallecimiento'] = df_hechos_victimas['fecha_fallecimiento'].astype(str)\n",
    "\n",
    "df_hechos_victimas['fecha_fallecimiento'] = df_hechos_victimas['fecha_fallecimiento'].str.split(' ').str[0]\n",
    "df_hechos_victimas.head(2)"
   ]
  },
  {
   "cell_type": "code",
   "execution_count": 87,
   "metadata": {},
   "outputs": [
    {
     "data": {
      "text/html": [
       "<div>\n",
       "<style scoped>\n",
       "    .dataframe tbody tr th:only-of-type {\n",
       "        vertical-align: middle;\n",
       "    }\n",
       "\n",
       "    .dataframe tbody tr th {\n",
       "        vertical-align: top;\n",
       "    }\n",
       "\n",
       "    .dataframe thead th {\n",
       "        text-align: right;\n",
       "    }\n",
       "</style>\n",
       "<table border=\"1\" class=\"dataframe\">\n",
       "  <thead>\n",
       "    <tr style=\"text-align: right;\">\n",
       "      <th></th>\n",
       "      <th>id</th>\n",
       "      <th>n_victimas</th>\n",
       "      <th>lugar_del_hecho</th>\n",
       "      <th>comuna</th>\n",
       "      <th>altura</th>\n",
       "      <th>participantes</th>\n",
       "      <th>calle</th>\n",
       "      <th>acusado</th>\n",
       "      <th>tipo_de_calle</th>\n",
       "      <th>hora</th>\n",
       "      <th>id_hecho</th>\n",
       "      <th>fecha</th>\n",
       "      <th>aaaa</th>\n",
       "      <th>mm</th>\n",
       "      <th>dd</th>\n",
       "      <th>rol</th>\n",
       "      <th>victima</th>\n",
       "      <th>sexo</th>\n",
       "      <th>edad</th>\n",
       "      <th>fecha_fallecimiento</th>\n",
       "    </tr>\n",
       "  </thead>\n",
       "  <tbody>\n",
       "    <tr>\n",
       "      <th>539</th>\n",
       "      <td>2020-0001</td>\n",
       "      <td>1</td>\n",
       "      <td>uriarte y loyola</td>\n",
       "      <td>15</td>\n",
       "      <td>sin dato</td>\n",
       "      <td>peaton-auto</td>\n",
       "      <td>uriarte</td>\n",
       "      <td>auto</td>\n",
       "      <td>calle</td>\n",
       "      <td>10:40:00</td>\n",
       "      <td>2020-0001</td>\n",
       "      <td>2020-01-04</td>\n",
       "      <td>2020</td>\n",
       "      <td>1</td>\n",
       "      <td>4</td>\n",
       "      <td>peaton</td>\n",
       "      <td>peaton</td>\n",
       "      <td>femenino</td>\n",
       "      <td>87</td>\n",
       "      <td>2020-01-04</td>\n",
       "    </tr>\n",
       "    <tr>\n",
       "      <th>540</th>\n",
       "      <td>2020-0002</td>\n",
       "      <td>1</td>\n",
       "      <td>saraza y varela av.</td>\n",
       "      <td>7</td>\n",
       "      <td>sin dato</td>\n",
       "      <td>moto-objeto fijo</td>\n",
       "      <td>saraza</td>\n",
       "      <td>objeto fijo</td>\n",
       "      <td>avenida</td>\n",
       "      <td>20:00:00</td>\n",
       "      <td>2020-0002</td>\n",
       "      <td>2020-01-05</td>\n",
       "      <td>2020</td>\n",
       "      <td>1</td>\n",
       "      <td>5</td>\n",
       "      <td>conductor</td>\n",
       "      <td>moto</td>\n",
       "      <td>masculino</td>\n",
       "      <td>36</td>\n",
       "      <td>2020-01-07</td>\n",
       "    </tr>\n",
       "    <tr>\n",
       "      <th>541</th>\n",
       "      <td>2020-0003</td>\n",
       "      <td>1</td>\n",
       "      <td>rivadavia av. y combate de los pozos</td>\n",
       "      <td>3</td>\n",
       "      <td>sin dato</td>\n",
       "      <td>peaton-auto</td>\n",
       "      <td>rivadavia av.</td>\n",
       "      <td>auto</td>\n",
       "      <td>avenida</td>\n",
       "      <td>06:00:00</td>\n",
       "      <td>2020-0003</td>\n",
       "      <td>2020-01-11</td>\n",
       "      <td>2020</td>\n",
       "      <td>1</td>\n",
       "      <td>11</td>\n",
       "      <td>peaton</td>\n",
       "      <td>peaton</td>\n",
       "      <td>masculino</td>\n",
       "      <td>44</td>\n",
       "      <td>2020-01-11</td>\n",
       "    </tr>\n",
       "    <tr>\n",
       "      <th>542</th>\n",
       "      <td>2020-0004</td>\n",
       "      <td>1</td>\n",
       "      <td>rodriguez peña y rivadavia av.</td>\n",
       "      <td>1</td>\n",
       "      <td>sin dato</td>\n",
       "      <td>peaton-pasajeros</td>\n",
       "      <td>rodriguez pe?a</td>\n",
       "      <td>pasajeros</td>\n",
       "      <td>avenida</td>\n",
       "      <td>21:40:00</td>\n",
       "      <td>2020-0004</td>\n",
       "      <td>2020-01-14</td>\n",
       "      <td>2020</td>\n",
       "      <td>1</td>\n",
       "      <td>14</td>\n",
       "      <td>peaton</td>\n",
       "      <td>peaton</td>\n",
       "      <td>masculino</td>\n",
       "      <td>82</td>\n",
       "      <td>2020-01-15</td>\n",
       "    </tr>\n",
       "    <tr>\n",
       "      <th>543</th>\n",
       "      <td>2020-0005</td>\n",
       "      <td>1</td>\n",
       "      <td>24 de noviembre y san juan av.</td>\n",
       "      <td>3</td>\n",
       "      <td>sin dato</td>\n",
       "      <td>moto-pasajeros</td>\n",
       "      <td>24 de noviembre</td>\n",
       "      <td>pasajeros</td>\n",
       "      <td>avenida</td>\n",
       "      <td>06:00:00</td>\n",
       "      <td>2020-0005</td>\n",
       "      <td>2020-01-14</td>\n",
       "      <td>2020</td>\n",
       "      <td>1</td>\n",
       "      <td>14</td>\n",
       "      <td>conductor</td>\n",
       "      <td>moto</td>\n",
       "      <td>masculino</td>\n",
       "      <td>25</td>\n",
       "      <td>2020-02-10</td>\n",
       "    </tr>\n",
       "    <tr>\n",
       "      <th>...</th>\n",
       "      <td>...</td>\n",
       "      <td>...</td>\n",
       "      <td>...</td>\n",
       "      <td>...</td>\n",
       "      <td>...</td>\n",
       "      <td>...</td>\n",
       "      <td>...</td>\n",
       "      <td>...</td>\n",
       "      <td>...</td>\n",
       "      <td>...</td>\n",
       "      <td>...</td>\n",
       "      <td>...</td>\n",
       "      <td>...</td>\n",
       "      <td>...</td>\n",
       "      <td>...</td>\n",
       "      <td>...</td>\n",
       "      <td>...</td>\n",
       "      <td>...</td>\n",
       "      <td>...</td>\n",
       "      <td>...</td>\n",
       "    </tr>\n",
       "    <tr>\n",
       "      <th>712</th>\n",
       "      <td>2021-0093</td>\n",
       "      <td>1</td>\n",
       "      <td>av. riestra y mom</td>\n",
       "      <td>7</td>\n",
       "      <td>sin dato</td>\n",
       "      <td>moto-auto</td>\n",
       "      <td>riestra av.</td>\n",
       "      <td>auto</td>\n",
       "      <td>avenida</td>\n",
       "      <td>17:10:00</td>\n",
       "      <td>2021-0093</td>\n",
       "      <td>2021-12-13</td>\n",
       "      <td>2021</td>\n",
       "      <td>12</td>\n",
       "      <td>13</td>\n",
       "      <td>pasajero_acompañante</td>\n",
       "      <td>moto</td>\n",
       "      <td>femenino</td>\n",
       "      <td>18</td>\n",
       "      <td>2021-12-18</td>\n",
       "    </tr>\n",
       "    <tr>\n",
       "      <th>713</th>\n",
       "      <td>2021-0094</td>\n",
       "      <td>1</td>\n",
       "      <td>au dellepiane y lacarra</td>\n",
       "      <td>9</td>\n",
       "      <td>sin dato</td>\n",
       "      <td>moto-auto</td>\n",
       "      <td>dellepiane, luis, tte. gral.</td>\n",
       "      <td>auto</td>\n",
       "      <td>autopista</td>\n",
       "      <td>01:10:00</td>\n",
       "      <td>2021-0094</td>\n",
       "      <td>2021-12-20</td>\n",
       "      <td>2021</td>\n",
       "      <td>12</td>\n",
       "      <td>20</td>\n",
       "      <td>pasajero_acompañante</td>\n",
       "      <td>moto</td>\n",
       "      <td>femenino</td>\n",
       "      <td>43</td>\n",
       "      <td>2021-12-20</td>\n",
       "    </tr>\n",
       "    <tr>\n",
       "      <th>714</th>\n",
       "      <td>2021-0095</td>\n",
       "      <td>1</td>\n",
       "      <td>av. gaona y terrada</td>\n",
       "      <td>11</td>\n",
       "      <td>sin dato</td>\n",
       "      <td>moto-cargas</td>\n",
       "      <td>gaona av.</td>\n",
       "      <td>cargas</td>\n",
       "      <td>avenida</td>\n",
       "      <td>00:43:00</td>\n",
       "      <td>2021-0095</td>\n",
       "      <td>2021-12-30</td>\n",
       "      <td>2021</td>\n",
       "      <td>12</td>\n",
       "      <td>30</td>\n",
       "      <td>conductor</td>\n",
       "      <td>moto</td>\n",
       "      <td>masculino</td>\n",
       "      <td>27</td>\n",
       "      <td>2022-01-02</td>\n",
       "    </tr>\n",
       "    <tr>\n",
       "      <th>715</th>\n",
       "      <td>2021-0096</td>\n",
       "      <td>1</td>\n",
       "      <td>av. eva peron 4071</td>\n",
       "      <td>9</td>\n",
       "      <td>4071.0</td>\n",
       "      <td>auto-cargas</td>\n",
       "      <td>peron, eva av.</td>\n",
       "      <td>cargas</td>\n",
       "      <td>avenida</td>\n",
       "      <td>10:30:00</td>\n",
       "      <td>2021-0096</td>\n",
       "      <td>2021-12-15</td>\n",
       "      <td>2021</td>\n",
       "      <td>12</td>\n",
       "      <td>15</td>\n",
       "      <td>conductor</td>\n",
       "      <td>auto</td>\n",
       "      <td>masculino</td>\n",
       "      <td>60</td>\n",
       "      <td>2021-12-20</td>\n",
       "    </tr>\n",
       "    <tr>\n",
       "      <th>716</th>\n",
       "      <td>2021-0097</td>\n",
       "      <td>1</td>\n",
       "      <td>padre carlos mujica 709</td>\n",
       "      <td>1</td>\n",
       "      <td>709.0</td>\n",
       "      <td>bicicleta-auto</td>\n",
       "      <td>padre carlos mujica</td>\n",
       "      <td>auto</td>\n",
       "      <td>calle</td>\n",
       "      <td>06:10:00</td>\n",
       "      <td>2021-0097</td>\n",
       "      <td>2021-11-18</td>\n",
       "      <td>2021</td>\n",
       "      <td>11</td>\n",
       "      <td>18</td>\n",
       "      <td>ciclista</td>\n",
       "      <td>bicicleta</td>\n",
       "      <td>masculino</td>\n",
       "      <td>53</td>\n",
       "      <td>2021-11-19</td>\n",
       "    </tr>\n",
       "  </tbody>\n",
       "</table>\n",
       "<p>178 rows × 20 columns</p>\n",
       "</div>"
      ],
      "text/plain": [
       "            id  n_victimas                       lugar_del_hecho comuna   \n",
       "539  2020-0001           1                      uriarte y loyola     15  \\\n",
       "540  2020-0002           1                   saraza y varela av.      7   \n",
       "541  2020-0003           1  rivadavia av. y combate de los pozos      3   \n",
       "542  2020-0004           1        rodriguez peña y rivadavia av.      1   \n",
       "543  2020-0005           1        24 de noviembre y san juan av.      3   \n",
       "..         ...         ...                                   ...    ...   \n",
       "712  2021-0093           1                     av. riestra y mom      7   \n",
       "713  2021-0094           1               au dellepiane y lacarra      9   \n",
       "714  2021-0095           1                   av. gaona y terrada     11   \n",
       "715  2021-0096           1                    av. eva peron 4071      9   \n",
       "716  2021-0097           1               padre carlos mujica 709      1   \n",
       "\n",
       "       altura     participantes                         calle      acusado   \n",
       "539  sin dato       peaton-auto                       uriarte         auto  \\\n",
       "540  sin dato  moto-objeto fijo                        saraza  objeto fijo   \n",
       "541  sin dato       peaton-auto                 rivadavia av.         auto   \n",
       "542  sin dato  peaton-pasajeros                rodriguez pe?a    pasajeros   \n",
       "543  sin dato    moto-pasajeros               24 de noviembre    pasajeros   \n",
       "..        ...               ...                           ...          ...   \n",
       "712  sin dato         moto-auto                   riestra av.         auto   \n",
       "713  sin dato         moto-auto  dellepiane, luis, tte. gral.         auto   \n",
       "714  sin dato       moto-cargas                     gaona av.       cargas   \n",
       "715    4071.0       auto-cargas                peron, eva av.       cargas   \n",
       "716     709.0    bicicleta-auto           padre carlos mujica         auto   \n",
       "\n",
       "    tipo_de_calle      hora   id_hecho      fecha  aaaa  mm  dd   \n",
       "539         calle  10:40:00  2020-0001 2020-01-04  2020   1   4  \\\n",
       "540       avenida  20:00:00  2020-0002 2020-01-05  2020   1   5   \n",
       "541       avenida  06:00:00  2020-0003 2020-01-11  2020   1  11   \n",
       "542       avenida  21:40:00  2020-0004 2020-01-14  2020   1  14   \n",
       "543       avenida  06:00:00  2020-0005 2020-01-14  2020   1  14   \n",
       "..            ...       ...        ...        ...   ...  ..  ..   \n",
       "712       avenida  17:10:00  2021-0093 2021-12-13  2021  12  13   \n",
       "713     autopista  01:10:00  2021-0094 2021-12-20  2021  12  20   \n",
       "714       avenida  00:43:00  2021-0095 2021-12-30  2021  12  30   \n",
       "715       avenida  10:30:00  2021-0096 2021-12-15  2021  12  15   \n",
       "716         calle  06:10:00  2021-0097 2021-11-18  2021  11  18   \n",
       "\n",
       "                      rol    victima       sexo  edad fecha_fallecimiento  \n",
       "539                peaton     peaton   femenino    87          2020-01-04  \n",
       "540             conductor       moto  masculino    36          2020-01-07  \n",
       "541                peaton     peaton  masculino    44          2020-01-11  \n",
       "542                peaton     peaton  masculino    82          2020-01-15  \n",
       "543             conductor       moto  masculino    25          2020-02-10  \n",
       "..                    ...        ...        ...   ...                 ...  \n",
       "712  pasajero_acompañante       moto   femenino    18          2021-12-18  \n",
       "713  pasajero_acompañante       moto   femenino    43          2021-12-20  \n",
       "714             conductor       moto  masculino    27          2022-01-02  \n",
       "715             conductor       auto  masculino    60          2021-12-20  \n",
       "716              ciclista  bicicleta  masculino    53          2021-11-19  \n",
       "\n",
       "[178 rows x 20 columns]"
      ]
     },
     "execution_count": 87,
     "metadata": {},
     "output_type": "execute_result"
    }
   ],
   "source": [
    "df_hechos_victimas = df_hechos_victimas[(df_hechos_victimas['aaaa'] == 2020) | (df_hechos_victimas['aaaa'] == 2021)]\n",
    "df_hechos_victimas"
   ]
  },
  {
   "cell_type": "code",
   "execution_count": 88,
   "metadata": {},
   "outputs": [
    {
     "name": "stdout",
     "output_type": "stream",
     "text": [
      "DataFrame guardado como archivo CSV en: C:\\Users\\rossa\\Desktop\\HENRY\\PROYECTO INDIVIDUAL PB\\df_hechos_victimas.csv\n"
     ]
    }
   ],
   "source": [
    "# Ruta donde deseas guardar el archivo CSV\n",
    "ruta_csv = r\"C:\\Users\\rossa\\Desktop\\HENRY\\PROYECTO INDIVIDUAL PB\\df_hechos_victimas.csv\" \n",
    "\n",
    "# Guarda el DataFrame en un archivo CSV -'index=False' evita que se incluya el índice en el archivo CSV\n",
    "df_hechos_victimas.to_csv(ruta_csv, index=False)  \n",
    "\n",
    "print(\"DataFrame guardado como archivo CSV en:\", ruta_csv)"
   ]
  },
  {
   "cell_type": "code",
   "execution_count": 89,
   "metadata": {},
   "outputs": [],
   "source": [
    "# Especifica la ruta completa del archivo CSV\n",
    "ruta_csv = r\"df_hechos_victimas.csv\" \n",
    "\n",
    "# Carga el archivo CSV en un DataFrame\n",
    "df_hechos_victimas= pd.read_csv(ruta_csv)"
   ]
  },
  {
   "cell_type": "code",
   "execution_count": 90,
   "metadata": {},
   "outputs": [
    {
     "data": {
      "text/html": [
       "<div>\n",
       "<style scoped>\n",
       "    .dataframe tbody tr th:only-of-type {\n",
       "        vertical-align: middle;\n",
       "    }\n",
       "\n",
       "    .dataframe tbody tr th {\n",
       "        vertical-align: top;\n",
       "    }\n",
       "\n",
       "    .dataframe thead th {\n",
       "        text-align: right;\n",
       "    }\n",
       "</style>\n",
       "<table border=\"1\" class=\"dataframe\">\n",
       "  <thead>\n",
       "    <tr style=\"text-align: right;\">\n",
       "      <th></th>\n",
       "      <th>id</th>\n",
       "      <th>n_victimas</th>\n",
       "      <th>lugar_del_hecho</th>\n",
       "      <th>comuna</th>\n",
       "      <th>altura</th>\n",
       "      <th>participantes</th>\n",
       "      <th>calle</th>\n",
       "      <th>acusado</th>\n",
       "      <th>tipo_de_calle</th>\n",
       "      <th>hora</th>\n",
       "      <th>id_hecho</th>\n",
       "      <th>fecha</th>\n",
       "      <th>aaaa</th>\n",
       "      <th>mm</th>\n",
       "      <th>dd</th>\n",
       "      <th>rol</th>\n",
       "      <th>victima</th>\n",
       "      <th>sexo</th>\n",
       "      <th>edad</th>\n",
       "      <th>fecha_fallecimiento</th>\n",
       "    </tr>\n",
       "  </thead>\n",
       "  <tbody>\n",
       "    <tr>\n",
       "      <th>0</th>\n",
       "      <td>2020-0001</td>\n",
       "      <td>1</td>\n",
       "      <td>uriarte y loyola</td>\n",
       "      <td>15</td>\n",
       "      <td>sin dato</td>\n",
       "      <td>peaton-auto</td>\n",
       "      <td>uriarte</td>\n",
       "      <td>auto</td>\n",
       "      <td>calle</td>\n",
       "      <td>10:40:00</td>\n",
       "      <td>2020-0001</td>\n",
       "      <td>2020-01-04</td>\n",
       "      <td>2020</td>\n",
       "      <td>1</td>\n",
       "      <td>4</td>\n",
       "      <td>peaton</td>\n",
       "      <td>peaton</td>\n",
       "      <td>femenino</td>\n",
       "      <td>87</td>\n",
       "      <td>2020-01-04</td>\n",
       "    </tr>\n",
       "    <tr>\n",
       "      <th>1</th>\n",
       "      <td>2020-0002</td>\n",
       "      <td>1</td>\n",
       "      <td>saraza y varela av.</td>\n",
       "      <td>7</td>\n",
       "      <td>sin dato</td>\n",
       "      <td>moto-objeto fijo</td>\n",
       "      <td>saraza</td>\n",
       "      <td>objeto fijo</td>\n",
       "      <td>avenida</td>\n",
       "      <td>20:00:00</td>\n",
       "      <td>2020-0002</td>\n",
       "      <td>2020-01-05</td>\n",
       "      <td>2020</td>\n",
       "      <td>1</td>\n",
       "      <td>5</td>\n",
       "      <td>conductor</td>\n",
       "      <td>moto</td>\n",
       "      <td>masculino</td>\n",
       "      <td>36</td>\n",
       "      <td>2020-01-07</td>\n",
       "    </tr>\n",
       "  </tbody>\n",
       "</table>\n",
       "</div>"
      ],
      "text/plain": [
       "          id  n_victimas      lugar_del_hecho  comuna    altura   \n",
       "0  2020-0001           1     uriarte y loyola      15  sin dato  \\\n",
       "1  2020-0002           1  saraza y varela av.       7  sin dato   \n",
       "\n",
       "      participantes    calle      acusado tipo_de_calle      hora   id_hecho   \n",
       "0       peaton-auto  uriarte         auto         calle  10:40:00  2020-0001  \\\n",
       "1  moto-objeto fijo   saraza  objeto fijo       avenida  20:00:00  2020-0002   \n",
       "\n",
       "        fecha  aaaa  mm  dd        rol victima       sexo  edad   \n",
       "0  2020-01-04  2020   1   4     peaton  peaton   femenino    87  \\\n",
       "1  2020-01-05  2020   1   5  conductor    moto  masculino    36   \n",
       "\n",
       "  fecha_fallecimiento  \n",
       "0          2020-01-04  \n",
       "1          2020-01-07  "
      ]
     },
     "execution_count": 90,
     "metadata": {},
     "output_type": "execute_result"
    }
   ],
   "source": [
    "df_hechos_victimas.head(2)"
   ]
  },
  {
   "cell_type": "markdown",
   "metadata": {},
   "source": [
    "Graficos de métricas"
   ]
  },
  {
   "cell_type": "markdown",
   "metadata": {},
   "source": [
    "Buscar valores atípicos/extremos u outliers. Asimismo, la utilización de gráficos coherentes según la tipología de variable que corresponda resulta esencial. "
   ]
  },
  {
   "cell_type": "markdown",
   "metadata": {},
   "source": [
    "Se disponibiliza el cálculo y visualización de métricas,  realizadas para tener un mejor entendimiento del escenario macro y aquellas particularidades significativas para observar y analizar."
   ]
  },
  {
   "cell_type": "markdown",
   "metadata": {},
   "source": [
    "1- calcula el número de muertes en el 2021 por tipo de calle y tipo de víctima. Gráfico de barras.   "
   ]
  },
  {
   "cell_type": "code",
   "execution_count": 118,
   "metadata": {},
   "outputs": [
    {
     "data": {
      "image/png": "[encoded data removed]",
      "text/plain": [
       "<Figure size 720x432 with 1 Axes>"
      ]
     },
     "metadata": {
      "needs_background": "light"
     },
     "output_type": "display_data"
    },
    {
     "name": "stdout",
     "output_type": "stream",
     "text": [
      "En el año 2021, la mayor cantidad de muertes ocurrió en avenida con víctimas de tipo moto, con un total de 24 muertes.\n",
      "El porcentaje de muertes en esta combinación fue del 24.74% del total de muertes en 2021.\n"
     ]
    }
   ],
   "source": [
    "# Filtrar los datos para incluir solo registros del año 2021\n",
    "df_2021 = df_hechos_victimas[df_hechos_victimas['aaaa'] == 2021]\n",
    "\n",
    "# Agrupar por tipo de calle y tipo de víctima, sumando las muertes en cada grupo\n",
    "muertes_por_tipo = df_2021.groupby(['tipo_de_calle', 'victima'])['n_victimas'].sum().reset_index()\n",
    "\n",
    "# Calcular el total de muertes en 2021\n",
    "total_muertes_2021 = muertes_por_tipo['n_victimas'].sum()\n",
    "\n",
    "# Calcular el porcentaje de muertes para cada combinación\n",
    "muertes_por_tipo['porcentaje_muertes'] = (muertes_por_tipo['n_victimas'] / total_muertes_2021) * 100\n",
    "\n",
    "# Encontrar la combinación con el mayor número de muertes y su porcentaje\n",
    "max_muertes = muertes_por_tipo['n_victimas'].max()\n",
    "tipo_calle_max_muertes = muertes_por_tipo[muertes_por_tipo['n_victimas'] == max_muertes]['tipo_de_calle'].values[0]\n",
    "tipo_victima_max_muertes = muertes_por_tipo[muertes_por_tipo['n_victimas'] == max_muertes]['victima'].values[0]\n",
    "porcentaje_max_muertes = muertes_por_tipo[muertes_por_tipo['n_victimas'] == max_muertes]['porcentaje_muertes'].values[0]\n",
    "\n",
    "# Graficar los resultados\n",
    "plt.figure(figsize=(10, 6))\n",
    "plt.bar(muertes_por_tipo['tipo_de_calle'] + ' - ' + muertes_por_tipo['victima'], muertes_por_tipo['n_victimas'])\n",
    "plt.xlabel('Tipo de Calle - Tipo de Víctima')\n",
    "plt.ylabel('Número de Muertes')\n",
    "plt.title('Muertes por Tipo de Calle y Tipo de Víctima en 2021')\n",
    "plt.xticks(rotation=45)\n",
    "plt.show()\n",
    "\n",
    "# Imprimir la combinación con la mayor cantidad de muertes y su porcentaje\n",
    "print(f'En el año 2021, la mayor cantidad de muertes ocurrió en {tipo_calle_max_muertes} con víctimas de tipo {tipo_victima_max_muertes}, con un total de {max_muertes} muertes.')\n",
    "print(f'El porcentaje de muertes en esta combinación fue del {porcentaje_max_muertes:.2f}% del total de muertes en 2021.')\n"
   ]
  },
  {
   "cell_type": "markdown",
   "metadata": {},
   "source": [
    "2- Determina el mayor % de accidentes mortales, según el tipo de víctima más representativa (moto, auto, peatón) durante el 2021"
   ]
  },
  {
   "cell_type": "code",
   "execution_count": 116,
   "metadata": {},
   "outputs": [
    {
     "data": {
      "image/png": "[encoded data removed]",
      "text/plain": [
       "<Figure size 576x432 with 1 Axes>"
      ]
     },
     "metadata": {
      "needs_background": "light"
     },
     "output_type": "display_data"
    },
    {
     "name": "stdout",
     "output_type": "stream",
     "text": [
      "Porcentaje de Accidentes Mortales por Tipo de Víctima (2021):\n",
      "Motociclista: 46.88%\n",
      "Automovilista: 12.50%\n",
      "Peatón: 33.33%\n"
     ]
    }
   ],
   "source": [
    "df_hechos_victimas['fecha_fallecimiento'] = pd.to_datetime(df_hechos_victimas['fecha_fallecimiento'])\n",
    "\n",
    "# Filtrar los datos para el último año (2021).\n",
    "filtro_ultimo_anio = (df_hechos_victimas['fecha_fallecimiento'].dt.year == 2021)\n",
    "df_ultimo_anio = df_hechos_victimas[filtro_ultimo_anio]\n",
    "\n",
    "# 2. Contar la cantidad de accidentes mortales de cada tipo de víctima.\n",
    "accidentes_motociclista = df_ultimo_anio[df_ultimo_anio['victima'] == 'moto'].shape[0]\n",
    "accidentes_automovilista = df_ultimo_anio[df_ultimo_anio['victima'] == 'auto'].shape[0]\n",
    "accidentes_peaton = df_ultimo_anio[df_ultimo_anio['victima'] == 'peaton'].shape[0]\n",
    "\n",
    "# Calcular el porcentaje de accidentes mortales para cada tipo de víctima.\n",
    "total_accidentes = df_ultimo_anio.shape[0]\n",
    "porcentaje_motociclista = (accidentes_motociclista / total_accidentes) * 100\n",
    "porcentaje_automovilista = (accidentes_automovilista / total_accidentes) * 100\n",
    "porcentaje_peaton = (accidentes_peaton / total_accidentes) * 100\n",
    "\n",
    "# Graficar los porcentajes en un gráfico de barras.\n",
    "tipos_de_victima = ['Motociclista', 'Automovilista', 'Peatón']\n",
    "porcentajes = [porcentaje_motociclista, porcentaje_automovilista, porcentaje_peaton]\n",
    "\n",
    "plt.figure(figsize=(8, 6))\n",
    "plt.bar(tipos_de_victima, porcentajes, color=['blue', 'green', 'red'])\n",
    "plt.title('Porcentaje de Accidentes Mortales por Tipo de Víctima (2021)')\n",
    "plt.xlabel('Tipo de Víctima')\n",
    "plt.ylabel('Porcentaje (%)')\n",
    "plt.ylim(0, 100)  \n",
    "plt.show()\n",
    "\n",
    "# Imprimir los porcentajes\n",
    "print(\"Porcentaje de Accidentes Mortales por Tipo de Víctima (2021):\")\n",
    "print(f\"Motociclista: {porcentaje_motociclista:.2f}%\")\n",
    "print(f\"Automovilista: {porcentaje_automovilista:.2f}%\")\n",
    "print(f\"Peatón: {porcentaje_peaton:.2f}%\")\n"
   ]
  },
  {
   "cell_type": "markdown",
   "metadata": {},
   "source": [
    "3 -Muestra la cantidad de incidentes para cada combinación de sexo y rol en 2021. Cada barra representa una combinación de sexo y rol, y los colores dentro de cada barra representan la distribución de incidentes por sexo. Gráfico de barras agrupadas"
   ]
  },
  {
   "cell_type": "code",
   "execution_count": 114,
   "metadata": {},
   "outputs": [
    {
     "data": {
      "image/png": "[encoded data removed]",
      "text/plain": [
       "<Figure size 864x576 with 1 Axes>"
      ]
     },
     "metadata": {
      "needs_background": "light"
     },
     "output_type": "display_data"
    },
    {
     "name": "stdout",
     "output_type": "stream",
     "text": [
      "Porcentaje de Incidentes por Combinación de Sexo y Rol en 2021:\n",
      "rol        ciclista  conductor  pasajero_acompañante     peaton\n",
      "sexo                                                           \n",
      "femenino   1.030928   4.123711              7.216495  10.309278\n",
      "masculino  5.154639  44.329897              4.123711  23.711340\n"
     ]
    }
   ],
   "source": [
    "df_2021 = df_hechos_victimas[df_hechos_victimas['aaaa'] == 2021]\n",
    "\n",
    "# Calcular el conteo de registros por combinación de sexo y rol\n",
    "conteo_por_combinacion = df_2021.groupby(['sexo', 'rol']).size().unstack().fillna(0)\n",
    "\n",
    "# Calcular los porcentajes por combinación de sexo y rol\n",
    "porcentaje_por_combinacion = (conteo_por_combinacion / conteo_por_combinacion.sum().sum()) * 100\n",
    "\n",
    "# Graficar los resultados\n",
    "conteo_por_combinacion.plot(kind='bar', stacked=True, figsize=(12, 8))\n",
    "plt.title('Cantidad de Incidentes por Combinación de Sexo y Rol en 2021')\n",
    "plt.xlabel('Combinación de Sexo y Rol')\n",
    "plt.ylabel('Cantidad de Incidentes')\n",
    "plt.xticks(rotation=0)\n",
    "plt.legend(title='Sexo', loc='upper right')\n",
    "plt.show()\n",
    "\n",
    "# Imprimir los porcentajes por combinación de sexo y rol\n",
    "print(\"Porcentaje de Incidentes por Combinación de Sexo y Rol en 2021:\")\n",
    "print(porcentaje_por_combinacion)\n",
    "\n"
   ]
  },
  {
   "cell_type": "markdown",
   "metadata": {},
   "source": [
    "4- Muestra la cantidad de incidentes para cada combinación de sexo y acusado en 2021. Cada barra representa una combinación de sexo y acusado, y los colores dentro de cada barra representan la distribución de incidentes por sexo. Gráfico de barras agrupadas"
   ]
  },
  {
   "cell_type": "code",
   "execution_count": 115,
   "metadata": {},
   "outputs": [
    {
     "data": {
      "image/png": "[encoded data removed]",
      "text/plain": [
       "<Figure size 864x576 with 1 Axes>"
      ]
     },
     "metadata": {
      "needs_background": "light"
     },
     "output_type": "display_data"
    },
    {
     "name": "stdout",
     "output_type": "stream",
     "text": [
      "Porcentaje de Incidentes por Combinación de Sexo y acusado en 2021:\n",
      "acusado         auto  bicicleta     cargas      moto  multiple  objeto fijo   \n",
      "sexo                                                                          \n",
      "femenino    6.185567   1.030928  10.309278  0.000000  0.000000     2.061856  \\\n",
      "masculino  25.773196   1.030928  13.402062  3.092784  2.061856    18.556701   \n",
      "\n",
      "acusado        otro  pasajeros        sd  \n",
      "sexo                                      \n",
      "femenino   0.000000   3.092784  0.000000  \n",
      "masculino  1.030928  11.340206  1.030928  \n"
     ]
    }
   ],
   "source": [
    "df_2021 = df_hechos_victimas[df_hechos_victimas['aaaa'] == 2021]\n",
    "\n",
    "# Calcular el conteo de registros por combinación de sexo y rol\n",
    "conteo_por_combinacion = df_2021.groupby(['sexo', 'acusado']).size().unstack().fillna(0)\n",
    "\n",
    "# Calcular los porcentajes por combinación de sexo y rol\n",
    "porcentaje_por_combinacion = (conteo_por_combinacion / conteo_por_combinacion.sum().sum()) * 100\n",
    "\n",
    "# Graficar los resultados\n",
    "conteo_por_combinacion.plot(kind='bar', stacked=True, figsize=(12, 8))\n",
    "plt.title('Cantidad de Incidentes por Combinación de Sexo y acusado en 2021')\n",
    "plt.xlabel('Combinación de Sexo y acusado')\n",
    "plt.ylabel('Cantidad de Incidentes')\n",
    "plt.xticks(rotation=0)\n",
    "plt.legend(title='Sexo', loc='upper right')\n",
    "plt.show()\n",
    "\n",
    "# Imprimir los porcentajes por combinación de sexo y rol\n",
    "print(\"Porcentaje de Incidentes por Combinación de Sexo y acusado en 2021:\")\n",
    "print(porcentaje_por_combinacion)"
   ]
  },
  {
   "cell_type": "markdown",
   "metadata": {},
   "source": [
    "5-- Se segmenta y agrupa las horas en rangos de \"Mañana\", \"Tarde\" y \"Noche\", y luego muestra la distribución de accidentes en esos rangos durante el 2021. "
   ]
  },
  {
   "cell_type": "code",
   "execution_count": 112,
   "metadata": {},
   "outputs": [
    {
     "name": "stderr",
     "output_type": "stream",
     "text": [
      "C:\\Users\\rossa\\AppData\\Local\\Temp\\ipykernel_101424\\2137291701.py:8: SettingWithCopyWarning: \n",
      "A value is trying to be set on a copy of a slice from a DataFrame.\n",
      "Try using .loc[row_indexer,col_indexer] = value instead\n",
      "\n",
      "See the caveats in the documentation: https://pandas.pydata.org/pandas-docs/stable/user_guide/indexing.html#returning-a-view-versus-a-copy\n",
      "  df_2021['hora'] = pd.to_datetime(df_2021['hora'], format='%H:%M:%S')\n",
      "C:\\Users\\rossa\\AppData\\Local\\Temp\\ipykernel_101424\\2137291701.py:16: SettingWithCopyWarning: \n",
      "A value is trying to be set on a copy of a slice from a DataFrame.\n",
      "Try using .loc[row_indexer,col_indexer] = value instead\n",
      "\n",
      "See the caveats in the documentation: https://pandas.pydata.org/pandas-docs/stable/user_guide/indexing.html#returning-a-view-versus-a-copy\n",
      "  df_2021.loc[horas_manana, 'rango_horario'] = 'Mañana'\n"
     ]
    },
    {
     "data": {
      "image/png": "[encoded data removed]",
      "text/plain": [
       "<Figure size 576x432 with 1 Axes>"
      ]
     },
     "metadata": {
      "needs_background": "light"
     },
     "output_type": "display_data"
    },
    {
     "name": "stdout",
     "output_type": "stream",
     "text": [
      "Porcentaje de Accidentes en la Mañana: 29.90%\n",
      "Porcentaje de Accidentes en la Tarde: 24.74%\n",
      "Porcentaje de Accidentes en la Noche: 45.36%\n"
     ]
    }
   ],
   "source": [
    "# Filtrar los datos con solo registros del año 2021\n",
    "df_2021 = df_hechos_victimas[df_hechos_victimas['aaaa'] == 2021]\n",
    "\n",
    "# Extraer la hora de la columna 'hora' y convertirla en un objeto datetime\n",
    "df_2021['hora'] = pd.to_datetime(df_2021['hora'], format='%H:%M:%S')\n",
    "\n",
    "# Definir los límites de los rangos horarios (mañana, tarde, noche)\n",
    "horas_manana = (df_2021['hora'].dt.hour >= 6) & (df_2021['hora'].dt.hour < 12)\n",
    "horas_tarde = (df_2021['hora'].dt.hour >= 12) & (df_2021['hora'].dt.hour < 18)\n",
    "horas_noche = (df_2021['hora'].dt.hour >= 18) | (df_2021['hora'].dt.hour < 6)\n",
    "\n",
    "# Crear una nueva columna 'rango_horario' basada en los límites definidos\n",
    "df_2021.loc[horas_manana, 'rango_horario'] = 'Mañana'\n",
    "df_2021.loc[horas_tarde, 'rango_horario'] = 'Tarde'\n",
    "df_2021.loc[horas_noche, 'rango_horario'] = 'Noche'\n",
    "\n",
    "# Calcular la distribución de accidentes por rango horario\n",
    "distribucion_rango_horario = df_2021['rango_horario'].value_counts().sort_index()\n",
    "\n",
    "# Calcular los porcentajes por rango horario\n",
    "porcentaje_manana = (distribucion_rango_horario['Mañana'] / len(df_2021)) * 100\n",
    "porcentaje_tarde = (distribucion_rango_horario['Tarde'] / len(df_2021)) * 100\n",
    "porcentaje_noche = (distribucion_rango_horario['Noche'] / len(df_2021)) * 100\n",
    "\n",
    "# Definir colores para cada rango horario\n",
    "colores = ['orange', 'red', 'gray']\n",
    "\n",
    "# Graficar la distribución por rango horario con colores personalizados\n",
    "plt.figure(figsize=(8, 6))\n",
    "distribucion_rango_horario.plot(kind='bar', color=colores)\n",
    "plt.xlabel('Rango Horario')\n",
    "plt.ylabel('Número de Accidentes')\n",
    "plt.title('Distribución de Accidentes por Rango Horario en 2021')\n",
    "plt.xticks(rotation=0)\n",
    "plt.show()\n",
    "\n",
    "# Imprimir los porcentajes por rango horario\n",
    "print(f\"Porcentaje de Accidentes en la Mañana: {porcentaje_manana:.2f}%\")\n",
    "print(f\"Porcentaje de Accidentes en la Tarde: {porcentaje_tarde:.2f}%\")\n",
    "print(f\"Porcentaje de Accidentes en la Noche: {porcentaje_noche:.2f}%\")\n"
   ]
  },
  {
   "cell_type": "code",
   "execution_count": 119,
   "metadata": {},
   "outputs": [
    {
     "data": {
      "text/html": [
       "<div>\n",
       "<style scoped>\n",
       "    .dataframe tbody tr th:only-of-type {\n",
       "        vertical-align: middle;\n",
       "    }\n",
       "\n",
       "    .dataframe tbody tr th {\n",
       "        vertical-align: top;\n",
       "    }\n",
       "\n",
       "    .dataframe thead th {\n",
       "        text-align: right;\n",
       "    }\n",
       "</style>\n",
       "<table border=\"1\" class=\"dataframe\">\n",
       "  <thead>\n",
       "    <tr style=\"text-align: right;\">\n",
       "      <th></th>\n",
       "      <th>rango_horario</th>\n",
       "      <th>numero_accidentes</th>\n",
       "    </tr>\n",
       "  </thead>\n",
       "  <tbody>\n",
       "    <tr>\n",
       "      <th>0</th>\n",
       "      <td>Mañana</td>\n",
       "      <td>29</td>\n",
       "    </tr>\n",
       "    <tr>\n",
       "      <th>1</th>\n",
       "      <td>Noche</td>\n",
       "      <td>44</td>\n",
       "    </tr>\n",
       "    <tr>\n",
       "      <th>2</th>\n",
       "      <td>Tarde</td>\n",
       "      <td>24</td>\n",
       "    </tr>\n",
       "  </tbody>\n",
       "</table>\n",
       "</div>"
      ],
      "text/plain": [
       "  rango_horario  numero_accidentes\n",
       "0        Mañana                 29\n",
       "1         Noche                 44\n",
       "2         Tarde                 24"
      ]
     },
     "execution_count": 119,
     "metadata": {},
     "output_type": "execute_result"
    }
   ],
   "source": [
    "rango_hora = {\n",
    "    'rango_horario': distribucion_rango_horario.index,\n",
    "    'numero_accidentes': distribucion_rango_horario.values\n",
    "}\n",
    "\n",
    "# Crea el DataFrame a partir de los resultados\n",
    "rango_hora = pd.DataFrame(rango_hora)\n",
    "rango_hora"
   ]
  },
  {
   "cell_type": "code",
   "execution_count": 120,
   "metadata": {},
   "outputs": [
    {
     "name": "stdout",
     "output_type": "stream",
     "text": [
      "DataFrame guardado como archivo CSV en: C:\\Users\\rossa\\Desktop\\HENRY\\PROYECTO INDIVIDUAL PB\\Proyecto_siniestros_viales\\rango_hora.csv\n"
     ]
    }
   ],
   "source": [
    "ruta_csv = r\"C:\\Users\\rossa\\Desktop\\HENRY\\PROYECTO INDIVIDUAL PB\\Proyecto_siniestros_viales\\rango_hora.csv\"\n",
    "\n",
    "rango_hora.to_csv(ruta_csv, index=False)\n",
    "\n",
    "print(\"DataFrame guardado como archivo CSV en:\", ruta_csv)"
   ]
  },
  {
   "cell_type": "markdown",
   "metadata": {},
   "source": [
    "6 -  Se busca identificar visualmente valores atípicos (outliers) en las variables \"edad\" y \"n_victimas\", para lograr un mejor análisis exploratorio de datos y observaciones inusuales en el conjunto de datos. Gráfico de dispersión."
   ]
  },
  {
   "cell_type": "code",
   "execution_count": 95,
   "metadata": {},
   "outputs": [
    {
     "data": {
      "image/png": "[encoded data removed]",
      "text/plain": [
       "<Figure size 720x432 with 1 Axes>"
      ]
     },
     "metadata": {
      "needs_background": "light"
     },
     "output_type": "display_data"
    },
    {
     "name": "stdout",
     "output_type": "stream",
     "text": [
      "No hay outliers en Edad.\n",
      "Outliers en Número de Víctimas:\n",
      "           id  n_victimas                          lugar_del_hecho  comuna   \n",
      "37  2020-0038           2  las heras general av. y diaz, cnel. av.      14  \\\n",
      "38  2020-0038           2  las heras general av. y diaz, cnel. av.      14   \n",
      "63  2020-0063           2                 nueva york y alta gracia      11   \n",
      "64  2020-0063           2                 nueva york y alta gracia      11   \n",
      "77  2020-0077           2            san martin av. y punta arenas      15   \n",
      "78  2020-0077           2            san martin av. y punta arenas      15   \n",
      "\n",
      "      altura     participantes                  calle acusado tipo_de_calle   \n",
      "37  sin dato         auto-auto  las heras general av.    auto       avenida  \\\n",
      "38  sin dato         auto-auto  las heras general av.    auto       avenida   \n",
      "63  sin dato  peaton_moto-moto             nueva york    moto         calle   \n",
      "64  sin dato  peaton_moto-moto             nueva york    moto         calle   \n",
      "77  sin dato         moto-auto         san martin av.    auto       avenida   \n",
      "78  sin dato         moto-auto         san martin av.    auto       avenida   \n",
      "\n",
      "        hora   id_hecho       fecha  aaaa  mm  dd                   rol   \n",
      "37  04:00:00  2020-0038  2020-08-30  2020   8  30             conductor  \\\n",
      "38  04:00:00  2020-0038  2020-08-30  2020   8  30             conductor   \n",
      "63  07:10:00  2020-0063  2020-12-05  2020  12   5                peaton   \n",
      "64  07:10:00  2020-0063  2020-12-05  2020  12   5  pasajero_acompañante   \n",
      "77  06:40:00  2020-0077  2020-12-25  2020  12  25             conductor   \n",
      "78  06:40:00  2020-0077  2020-12-25  2020  12  25  pasajero_acompañante   \n",
      "\n",
      "   victima       sexo  edad fecha_fallecimiento  \n",
      "37    auto  masculino    46          2020-08-30  \n",
      "38    auto  masculino    64          2020-08-30  \n",
      "63  peaton  masculino    38          2020-12-05  \n",
      "64    moto  masculino    21          2020-12-05  \n",
      "77    moto   femenino    30          2020-12-25  \n",
      "78    moto   femenino    24          2020-12-25  \n"
     ]
    }
   ],
   "source": [
    "# Crear un scatter plot de \"edad\" vs \"n_victimas\"\n",
    "plt.figure(figsize=(10, 6))\n",
    "plt.scatter(df_hechos_victimas['edad'], df_hechos_victimas['n_victimas'], c='blue', alpha=0.5, label='Edad vs Número de Víctimas')\n",
    "\n",
    "# Identificar y resaltar outliers en \"edad\" y \"n_victimas\"\n",
    "Q1_edad = df_hechos_victimas['edad'].quantile(0.25)\n",
    "Q3_edad = df_hechos_victimas['edad'].quantile(0.75)\n",
    "IQR_edad = Q3_edad - Q1_edad\n",
    "umbral_superior_edad = Q3_edad + 1.5 * IQR_edad\n",
    "outliers_edad = df_hechos_victimas[df_hechos_victimas['edad'] > umbral_superior_edad]\n",
    "\n",
    "Q1_n_victimas = df_hechos_victimas['n_victimas'].quantile(0.25)\n",
    "Q3_n_victimas = df_hechos_victimas['n_victimas'].quantile(0.75)\n",
    "IQR_n_victimas = Q3_n_victimas - Q1_n_victimas\n",
    "umbral_superior_n_victimas = Q3_n_victimas + 1.5 * IQR_n_victimas\n",
    "outliers_n_victimas = df_hechos_victimas[df_hechos_victimas['n_victimas'] > umbral_superior_n_victimas]\n",
    "\n",
    "# Marcar los outliers en el gráfico\n",
    "if not outliers_edad.empty:\n",
    "    plt.scatter(outliers_edad['edad'], outliers_edad['n_victimas'], label='Outliers en Edad', color='red', marker='x', s=100)\n",
    "if not outliers_n_victimas.empty:\n",
    "    plt.scatter(outliers_n_victimas['edad'], outliers_n_victimas['n_victimas'], label='Outliers en Número de Víctimas', color='green', marker='o', s=100)\n",
    "\n",
    "plt.title('Edad vs Número de Víctimas con Identificación de Outliers')\n",
    "plt.xlabel('Edad')\n",
    "plt.ylabel('Número de Víctimas')\n",
    "plt.legend()\n",
    "plt.show()\n",
    "\n",
    "# Mostrar los datos de los outliers\n",
    "if not outliers_edad.empty:\n",
    "    print(\"Outliers en Edad:\")\n",
    "    print(outliers_edad)\n",
    "else:\n",
    "    print(\"No hay outliers en Edad.\")\n",
    "\n",
    "if not outliers_n_victimas.empty:\n",
    "    print(\"Outliers en Número de Víctimas:\")\n",
    "    print(outliers_n_victimas)\n",
    "else:\n",
    "    print(\"No hay outliers en Número de Víctimas.\")\n",
    "\n"
   ]
  },
  {
   "cell_type": "markdown",
   "metadata": {},
   "source": [
    "7 - Se muestra la distribución de muertes a lo largo del tiempo, y  la fecha en la que hubo más muertes. Gráfico de barras."
   ]
  },
  {
   "cell_type": "code",
   "execution_count": 96,
   "metadata": {},
   "outputs": [
    {
     "data": {
      "image/png": "[encoded data removed]",
      "text/plain": [
       "<Figure size 864x432 with 1 Axes>"
      ]
     },
     "metadata": {
      "needs_background": "light"
     },
     "output_type": "display_data"
    },
    {
     "name": "stdout",
     "output_type": "stream",
     "text": [
      "La fecha con el mayor número de muertes fue 2020-12-20 con 3 muertes.\n"
     ]
    }
   ],
   "source": [
    "df_hechos_victimas['fecha_fallecimiento'] = pd.to_datetime(df_hechos_victimas['fecha_fallecimiento'])\n",
    "\n",
    "# Calcular el número de muertes por fecha de fallecimiento\n",
    "muertes_por_fecha_fallecimiento = df_hechos_victimas['fecha_fallecimiento'].dt.date.value_counts().sort_index()\n",
    "\n",
    "# Graficar el número de muertes por fecha de fallecimiento\n",
    "plt.figure(figsize=(12, 6))\n",
    "plt.plot(muertes_por_fecha_fallecimiento.index, muertes_por_fecha_fallecimiento.values, marker='o')\n",
    "plt.title('Número de Muertes por Fecha de Fallecimiento')\n",
    "plt.xlabel('Fecha de Fallecimiento')\n",
    "plt.ylabel('Número de Muertes')\n",
    "plt.xticks(rotation=45)\n",
    "plt.grid(True)\n",
    "plt.show()\n",
    "\n",
    "# Encontrar la fecha con el mayor número de muertes\n",
    "fecha_fallecimiento_max_muertes = muertes_por_fecha_fallecimiento.idxmax()\n",
    "max_muertes = muertes_por_fecha_fallecimiento.max()\n",
    "\n",
    "print(f\"La fecha con el mayor número de muertes fue {fecha_fallecimiento_max_muertes} con {max_muertes} muertes.\")\n"
   ]
  },
  {
   "cell_type": "markdown",
   "metadata": {},
   "source": [
    "8 -  Se visualiza las 5 comunas con mayor incidencia de accidentes durante el período especificado. Gráfico de barras"
   ]
  },
  {
   "cell_type": "code",
   "execution_count": 109,
   "metadata": {},
   "outputs": [
    {
     "data": {
      "image/png": "[encoded data removed]",
      "text/plain": [
       "<Figure size 864x432 with 1 Axes>"
      ]
     },
     "metadata": {
      "needs_background": "light"
     },
     "output_type": "display_data"
    },
    {
     "name": "stdout",
     "output_type": "stream",
     "text": [
      "Comuna 1: 10.67%\n",
      "Comuna 3: 10.11%\n",
      "Comuna 9: 10.11%\n",
      "Comuna 4: 9.55%\n",
      "Comuna 8: 7.87%\n",
      "Comuna 15: 6.74%\n",
      "Comuna 7: 6.74%\n",
      "Comuna 11: 5.62%\n",
      "Comuna 13: 5.62%\n",
      "Comuna 12: 5.62%\n",
      "Comuna 2: 5.06%\n",
      "Comuna 14: 5.06%\n",
      "Comuna 5: 3.93%\n",
      "Comuna 6: 3.93%\n",
      "Comuna 10: 3.37%\n"
     ]
    }
   ],
   "source": [
    "# Convertir la columna 'fecha' a tipo datetime \n",
    "df_hechos_victimas['fecha'] = pd.to_datetime(df_hechos_victimas['fecha'])\n",
    "# Filtrar los datos para el período deseado (Enero 2020 - Diciembre 2021)\n",
    "filtro_fecha = (df_hechos_victimas['fecha'] >= '2020-01-01') & (df_hechos_victimas['fecha'] <= '2021-12-31')\n",
    "df_periodo = df_hechos_victimas[filtro_fecha]\n",
    "\n",
    "# Calcular la proporción de accidentes por comuna en relación al total\n",
    "proporcion_comunas = (df_periodo['comuna'].value_counts() / len(df_periodo)) * 100\n",
    "\n",
    "# Graficar la proporción de accidentes por comuna (top 5)\n",
    "plt.figure(figsize=(12, 6))\n",
    "proporcion_comunas.head(5).plot(kind='bar', color='lightcoral')\n",
    "plt.title('Proporción de Accidentes por Comuna (Ene 2020 - Dic 2021)')\n",
    "plt.xlabel('Comuna')\n",
    "plt.ylabel('Porcentaje de Accidentes')\n",
    "plt.xticks(rotation=45)\n",
    "plt.tight_layout()\n",
    "plt.show()\n",
    "\n",
    "# Calcular la proporción de accidentes por comuna en relación al total\n",
    "proporcion_comunas = (df_periodo['comuna'].value_counts() / len(df_periodo)) * 100\n",
    "\n",
    "# Imprimir el porcentaje por comuna\n",
    "for comuna, porcentaje in proporcion_comunas.items():\n",
    "    print(f'Comuna {comuna}: {porcentaje:.2f}%')"
   ]
  },
  {
   "cell_type": "markdown",
   "metadata": {},
   "source": [
    "9 - Se realiza métrica para visualizar la diferencia de victimas mortales  entre el 2020 y 2021. Gráfico de barras"
   ]
  },
  {
   "cell_type": "code",
   "execution_count": 104,
   "metadata": {},
   "outputs": [
    {
     "name": "stdout",
     "output_type": "stream",
     "text": [
      "Total de muertes en 2020: 86\n",
      "Total de muertes en 2021: 96\n",
      "Porcentaje de muertes en 2020 respecto a 2021: 89.58333333333334%\n",
      "Diferencia en porcentaje entre 2020 y 2021: 11.63%\n"
     ]
    },
    {
     "data": {
      "image/png": "[encoded data removed]",
      "text/plain": [
       "<Figure size 432x288 with 1 Axes>"
      ]
     },
     "metadata": {
      "needs_background": "light"
     },
     "output_type": "display_data"
    }
   ],
   "source": [
    "\n",
    "df_hechos_victimas_2020 = df_hechos_victimas[df_hechos_victimas['fecha_fallecimiento'].dt.year == 2020]\n",
    "df_hechos_victimas_2021 = df_hechos_victimas[df_hechos_victimas['fecha_fallecimiento'].dt.year == 2021]\n",
    "\n",
    "# Calculamos el total de muertes en 2020 y 2021\n",
    "total_muertes_2020 = df_hechos_victimas_2020['n_victimas'].sum()\n",
    "total_muertes_2021 = df_hechos_victimas_2021['n_victimas'].sum()\n",
    "\n",
    "# Calculamos el porcentaje de muertes en 2020 respecto a 2021\n",
    "porcentaje_muertes = (total_muertes_2020 / total_muertes_2021) * 100\n",
    "\n",
    "print(f\"Total de muertes en 2020: {total_muertes_2020}\")\n",
    "print(f\"Total de muertes en 2021: {total_muertes_2021}\")\n",
    "print(f\"Porcentaje de muertes en 2020 respecto a 2021: {porcentaje_muertes}%\")\n",
    "\n",
    "# Calcular la diferencia en porcentaje entre 2021 y 2020\n",
    "diferencia_porcentaje = ((total_muertes_2021 - total_muertes_2020) / total_muertes_2020) * 100\n",
    "\n",
    "print(f\"Diferencia en porcentaje entre 2020 y 2021: {diferencia_porcentaje:.2f}%\")\n",
    "\n",
    "# se grafica la metrica\n",
    "anios = ['2020', '2021']\n",
    "total_muertes = [total_muertes_2020, total_muertes_2021]\n",
    "\n",
    "# Crear la gráfica de barras\n",
    "plt.bar(anios, total_muertes, color=['blue', 'green'])\n",
    "plt.xlabel('Año')\n",
    "plt.ylabel('Total de Muertes')\n",
    "plt.title('Porcentaje de Muertes en 2020 respecto a 2021')\n",
    "\n",
    "# Mostrar el porcentaje en la parte superior de las barras\n",
    "for i in range(len(anios)):\n",
    "    plt.text(anios[i], total_muertes[i] + 100, f\"{total_muertes[i]:.2f}%\", ha='center', va='bottom')\n",
    "\n",
    "# Mostrar la gráfica\n",
    "plt.show()"
   ]
  },
  {
   "cell_type": "markdown",
   "metadata": {},
   "source": [
    "10 - Se realiza métrica para visualizar la diferencia de victimas en accidentes entre el 2020 y 2021."
   ]
  },
  {
   "cell_type": "code",
   "execution_count": 107,
   "metadata": {},
   "outputs": [
    {
     "name": "stdout",
     "output_type": "stream",
     "text": [
      "Total de victimas en 2020: 87\n",
      "Total de victimas en 2021: 97\n",
      "Porcentaje de victimas en 2020 respecto a 2021: 89.69072164948454%\n",
      "Diferencia en porcentaje entre 2020 y 2021: 11.49%\n"
     ]
    }
   ],
   "source": [
    "df_hechos_victimas_2020 = df_hechos_victimas[df_hechos_victimas['fecha'].dt.year == 2020]\n",
    "df_hechos_victimas_2021 = df_hechos_victimas[df_hechos_victimas['fecha'].dt.year == 2021]\n",
    "\n",
    "# Calculamos el total de muertes en 2020 y 2021\n",
    "total_victimas_2020 = df_hechos_victimas_2020['n_victimas'].sum()\n",
    "total_victimas_2021 = df_hechos_victimas_2021['n_victimas'].sum()\n",
    "\n",
    "# Calculamos el porcentaje de muertes en 2020 respecto a 2021\n",
    "porcentaje_victimas = (total_victimas_2020 / total_victimas_2021) * 100\n",
    "\n",
    "print(f\"Total de victimas en 2020: {total_victimas_2020}\")\n",
    "print(f\"Total de victimas en 2021: {total_victimas_2021}\")\n",
    "print(f\"Porcentaje de victimas en 2020 respecto a 2021: {porcentaje_victimas}%\")\n",
    "\n",
    "# Calcular la diferencia en porcentaje entre 2021 y 2020\n",
    "diferencia_porcentaje = ((total_victimas_2021 - total_victimas_2020) / total_victimas_2020) * 100\n",
    "\n",
    "print(f\"Diferencia en porcentaje entre 2020 y 2021: {diferencia_porcentaje:.2f}%\")"
   ]
  }
 ],
 "metadata": {
  "kernelspec": {
   "display_name": "Python 3",
   "language": "python",
   "name": "python3"
  },
  "language_info": {
   "codemirror_mode": {
    "name": "ipython",
    "version": 3
   },
   "file_extension": ".py",
   "mimetype": "text/x-python",
   "name": "python",
   "nbconvert_exporter": "python",
   "pygments_lexer": "ipython3",
   "version": "3.10.6"
  },
  "orig_nbformat": 4
 },
 "nbformat": 4,
 "nbformat_minor": 2
}
