{
 "cells": [
  {
   "cell_type": "code",
   "execution_count": 8,
   "metadata": {},
   "outputs": [],
   "source": [
    "import pandas as pd\n",
    "import openpyxl\n",
    "import matplotlib.pyplot as plt"
   ]
  },
  {
   "cell_type": "code",
   "execution_count": 21,
   "metadata": {},
   "outputs": [],
   "source": [
    "# Especifica la ruta completa del archivo CSV\n",
    "ruta_csv = r\"df_hechos_victimas.csv\" \n",
    "\n",
    "# Carga el archivo CSV en un DataFrame\n",
    "df_hechos_victimas= pd.read_csv(ruta_csv)"
   ]
  },
  {
   "cell_type": "code",
   "execution_count": 32,
   "metadata": {},
   "outputs": [
    {
     "data": {
      "text/html": [
       "<div>\n",
       "<style scoped>\n",
       "    .dataframe tbody tr th:only-of-type {\n",
       "        vertical-align: middle;\n",
       "    }\n",
       "\n",
       "    .dataframe tbody tr th {\n",
       "        vertical-align: top;\n",
       "    }\n",
       "\n",
       "    .dataframe thead th {\n",
       "        text-align: right;\n",
       "    }\n",
       "</style>\n",
       "<table border=\"1\" class=\"dataframe\">\n",
       "  <thead>\n",
       "    <tr style=\"text-align: right;\">\n",
       "      <th></th>\n",
       "      <th>id</th>\n",
       "      <th>n_victimas</th>\n",
       "      <th>lugar_del_hecho</th>\n",
       "      <th>comuna</th>\n",
       "      <th>altura</th>\n",
       "      <th>participantes</th>\n",
       "      <th>calle</th>\n",
       "      <th>acusado</th>\n",
       "      <th>tipo_de_calle</th>\n",
       "      <th>hora</th>\n",
       "      <th>id_hecho</th>\n",
       "      <th>fecha</th>\n",
       "      <th>aaaa</th>\n",
       "      <th>mm</th>\n",
       "      <th>dd</th>\n",
       "      <th>rol</th>\n",
       "      <th>victima</th>\n",
       "      <th>sexo</th>\n",
       "      <th>edad</th>\n",
       "      <th>fecha_fallecimiento</th>\n",
       "    </tr>\n",
       "  </thead>\n",
       "  <tbody>\n",
       "    <tr>\n",
       "      <th>82</th>\n",
       "      <td>2021-0002</td>\n",
       "      <td>1</td>\n",
       "      <td>castro, emilio av. y murguiondo</td>\n",
       "      <td>9</td>\n",
       "      <td>sin dato</td>\n",
       "      <td>moto-cargas</td>\n",
       "      <td>castro, emilio av.</td>\n",
       "      <td>cargas</td>\n",
       "      <td>avenida</td>\n",
       "      <td>10:20:00</td>\n",
       "      <td>2021-0002</td>\n",
       "      <td>2021-01-07</td>\n",
       "      <td>2021</td>\n",
       "      <td>1</td>\n",
       "      <td>7</td>\n",
       "      <td>conductor</td>\n",
       "      <td>moto</td>\n",
       "      <td>femenino</td>\n",
       "      <td>47</td>\n",
       "      <td>2021-01-07</td>\n",
       "    </tr>\n",
       "    <tr>\n",
       "      <th>67</th>\n",
       "      <td>2020-0067</td>\n",
       "      <td>1</td>\n",
       "      <td>saenz av. y beazley</td>\n",
       "      <td>4</td>\n",
       "      <td>sin dato</td>\n",
       "      <td>peaton-pasajeros</td>\n",
       "      <td>saenz av.</td>\n",
       "      <td>pasajeros</td>\n",
       "      <td>avenida</td>\n",
       "      <td>22:00:00</td>\n",
       "      <td>2020-0067</td>\n",
       "      <td>2020-12-11</td>\n",
       "      <td>2020</td>\n",
       "      <td>12</td>\n",
       "      <td>11</td>\n",
       "      <td>peaton</td>\n",
       "      <td>peaton</td>\n",
       "      <td>masculino</td>\n",
       "      <td>51</td>\n",
       "      <td>2020-12-11</td>\n",
       "    </tr>\n",
       "    <tr>\n",
       "      <th>92</th>\n",
       "      <td>2021-0012</td>\n",
       "      <td>1</td>\n",
       "      <td>au dellepiane y guamini</td>\n",
       "      <td>8</td>\n",
       "      <td>sin dato</td>\n",
       "      <td>peaton-auto</td>\n",
       "      <td>dellepiane, luis, tte. gral.</td>\n",
       "      <td>auto</td>\n",
       "      <td>autopista</td>\n",
       "      <td>20:07:22</td>\n",
       "      <td>2021-0012</td>\n",
       "      <td>2021-01-29</td>\n",
       "      <td>2021</td>\n",
       "      <td>1</td>\n",
       "      <td>29</td>\n",
       "      <td>peaton</td>\n",
       "      <td>peaton</td>\n",
       "      <td>masculino</td>\n",
       "      <td>0</td>\n",
       "      <td>2021-01-29</td>\n",
       "    </tr>\n",
       "    <tr>\n",
       "      <th>106</th>\n",
       "      <td>2021-0026</td>\n",
       "      <td>1</td>\n",
       "      <td>au frondizi altura quinquela martin, benito</td>\n",
       "      <td>4</td>\n",
       "      <td>sin dato</td>\n",
       "      <td>moto-objeto fijo</td>\n",
       "      <td>autopista 1 sur presidente arturo frondizi</td>\n",
       "      <td>objeto fijo</td>\n",
       "      <td>autopista</td>\n",
       "      <td>02:35:00</td>\n",
       "      <td>2021-0026</td>\n",
       "      <td>2021-03-15</td>\n",
       "      <td>2021</td>\n",
       "      <td>3</td>\n",
       "      <td>15</td>\n",
       "      <td>conductor</td>\n",
       "      <td>moto</td>\n",
       "      <td>masculino</td>\n",
       "      <td>36</td>\n",
       "      <td>2021-03-15</td>\n",
       "    </tr>\n",
       "    <tr>\n",
       "      <th>24</th>\n",
       "      <td>2020-0025</td>\n",
       "      <td>1</td>\n",
       "      <td>rivadavia av. 2551</td>\n",
       "      <td>3</td>\n",
       "      <td>2551.0</td>\n",
       "      <td>peaton-auto</td>\n",
       "      <td>rivadavia av.</td>\n",
       "      <td>auto</td>\n",
       "      <td>avenida</td>\n",
       "      <td>05:35:00</td>\n",
       "      <td>2020-0025</td>\n",
       "      <td>2020-05-12</td>\n",
       "      <td>2020</td>\n",
       "      <td>5</td>\n",
       "      <td>12</td>\n",
       "      <td>peaton</td>\n",
       "      <td>peaton</td>\n",
       "      <td>masculino</td>\n",
       "      <td>0</td>\n",
       "      <td>2020-05-12</td>\n",
       "    </tr>\n",
       "    <tr>\n",
       "      <th>1</th>\n",
       "      <td>2020-0002</td>\n",
       "      <td>1</td>\n",
       "      <td>saraza y varela av.</td>\n",
       "      <td>7</td>\n",
       "      <td>sin dato</td>\n",
       "      <td>moto-objeto fijo</td>\n",
       "      <td>saraza</td>\n",
       "      <td>objeto fijo</td>\n",
       "      <td>avenida</td>\n",
       "      <td>20:00:00</td>\n",
       "      <td>2020-0002</td>\n",
       "      <td>2020-01-05</td>\n",
       "      <td>2020</td>\n",
       "      <td>1</td>\n",
       "      <td>5</td>\n",
       "      <td>conductor</td>\n",
       "      <td>moto</td>\n",
       "      <td>masculino</td>\n",
       "      <td>36</td>\n",
       "      <td>2020-01-07</td>\n",
       "    </tr>\n",
       "    <tr>\n",
       "      <th>90</th>\n",
       "      <td>2021-0010</td>\n",
       "      <td>1</td>\n",
       "      <td>paz, gral. av. y balbin, ricardo, dr. av.</td>\n",
       "      <td>12</td>\n",
       "      <td>sin dato</td>\n",
       "      <td>moto-auto</td>\n",
       "      <td>paz, gral. av.</td>\n",
       "      <td>auto</td>\n",
       "      <td>gral paz</td>\n",
       "      <td>08:00:00</td>\n",
       "      <td>2021-0010</td>\n",
       "      <td>2021-01-23</td>\n",
       "      <td>2021</td>\n",
       "      <td>1</td>\n",
       "      <td>23</td>\n",
       "      <td>conductor</td>\n",
       "      <td>moto</td>\n",
       "      <td>masculino</td>\n",
       "      <td>28</td>\n",
       "      <td>2021-01-23</td>\n",
       "    </tr>\n",
       "    <tr>\n",
       "      <th>8</th>\n",
       "      <td>2020-0009</td>\n",
       "      <td>1</td>\n",
       "      <td>peron, juan domingo, tte. general y salguero, ...</td>\n",
       "      <td>5</td>\n",
       "      <td>sin dato</td>\n",
       "      <td>peaton-auto</td>\n",
       "      <td>peron, juan domingo, tte. general</td>\n",
       "      <td>auto</td>\n",
       "      <td>calle</td>\n",
       "      <td>14:50:00</td>\n",
       "      <td>2020-0009</td>\n",
       "      <td>2020-02-04</td>\n",
       "      <td>2020</td>\n",
       "      <td>2</td>\n",
       "      <td>4</td>\n",
       "      <td>peaton</td>\n",
       "      <td>peaton</td>\n",
       "      <td>masculino</td>\n",
       "      <td>48</td>\n",
       "      <td>2020-02-05</td>\n",
       "    </tr>\n",
       "    <tr>\n",
       "      <th>89</th>\n",
       "      <td>2021-0009</td>\n",
       "      <td>1</td>\n",
       "      <td>paysandu y gaona</td>\n",
       "      <td>6</td>\n",
       "      <td>sin dato</td>\n",
       "      <td>moto-objeto fijo</td>\n",
       "      <td>paysandu</td>\n",
       "      <td>objeto fijo</td>\n",
       "      <td>avenida</td>\n",
       "      <td>05:30:00</td>\n",
       "      <td>2021-0009</td>\n",
       "      <td>2021-01-23</td>\n",
       "      <td>2021</td>\n",
       "      <td>1</td>\n",
       "      <td>23</td>\n",
       "      <td>conductor</td>\n",
       "      <td>moto</td>\n",
       "      <td>masculino</td>\n",
       "      <td>31</td>\n",
       "      <td>2021-01-23</td>\n",
       "    </tr>\n",
       "    <tr>\n",
       "      <th>108</th>\n",
       "      <td>2021-0028</td>\n",
       "      <td>1</td>\n",
       "      <td>corea av. y torres y tenorio, pres</td>\n",
       "      <td>7</td>\n",
       "      <td>sin dato</td>\n",
       "      <td>peaton-pasajeros</td>\n",
       "      <td>corea av.</td>\n",
       "      <td>pasajeros</td>\n",
       "      <td>avenida</td>\n",
       "      <td>17:20:00</td>\n",
       "      <td>2021-0028</td>\n",
       "      <td>2021-03-29</td>\n",
       "      <td>2021</td>\n",
       "      <td>3</td>\n",
       "      <td>29</td>\n",
       "      <td>peaton</td>\n",
       "      <td>peaton</td>\n",
       "      <td>masculino</td>\n",
       "      <td>0</td>\n",
       "      <td>2021-03-29</td>\n",
       "    </tr>\n",
       "  </tbody>\n",
       "</table>\n",
       "</div>"
      ],
      "text/plain": [
       "            id  n_victimas                                    lugar_del_hecho   \n",
       "82   2021-0002           1                    castro, emilio av. y murguiondo  \\\n",
       "67   2020-0067           1                                saenz av. y beazley   \n",
       "92   2021-0012           1                            au dellepiane y guamini   \n",
       "106  2021-0026           1        au frondizi altura quinquela martin, benito   \n",
       "24   2020-0025           1                                 rivadavia av. 2551   \n",
       "1    2020-0002           1                                saraza y varela av.   \n",
       "90   2021-0010           1         paz, gral. av. y balbin, ricardo, dr. av.    \n",
       "8    2020-0009           1  peron, juan domingo, tte. general y salguero, ...   \n",
       "89   2021-0009           1                                   paysandu y gaona   \n",
       "108  2021-0028           1                 corea av. y torres y tenorio, pres   \n",
       "\n",
       "     comuna    altura     participantes   \n",
       "82        9  sin dato       moto-cargas  \\\n",
       "67        4  sin dato  peaton-pasajeros   \n",
       "92        8  sin dato       peaton-auto   \n",
       "106       4  sin dato  moto-objeto fijo   \n",
       "24        3    2551.0       peaton-auto   \n",
       "1         7  sin dato  moto-objeto fijo   \n",
       "90       12  sin dato         moto-auto   \n",
       "8         5  sin dato       peaton-auto   \n",
       "89        6  sin dato  moto-objeto fijo   \n",
       "108       7  sin dato  peaton-pasajeros   \n",
       "\n",
       "                                          calle      acusado tipo_de_calle   \n",
       "82                           castro, emilio av.       cargas       avenida  \\\n",
       "67                                    saenz av.    pasajeros       avenida   \n",
       "92                 dellepiane, luis, tte. gral.         auto     autopista   \n",
       "106  autopista 1 sur presidente arturo frondizi  objeto fijo     autopista   \n",
       "24                                rivadavia av.         auto       avenida   \n",
       "1                                        saraza  objeto fijo       avenida   \n",
       "90                               paz, gral. av.         auto      gral paz   \n",
       "8             peron, juan domingo, tte. general         auto         calle   \n",
       "89                                     paysandu  objeto fijo       avenida   \n",
       "108                                   corea av.    pasajeros       avenida   \n",
       "\n",
       "         hora   id_hecho       fecha  aaaa  mm  dd        rol victima   \n",
       "82   10:20:00  2021-0002  2021-01-07  2021   1   7  conductor    moto  \\\n",
       "67   22:00:00  2020-0067  2020-12-11  2020  12  11     peaton  peaton   \n",
       "92   20:07:22  2021-0012  2021-01-29  2021   1  29     peaton  peaton   \n",
       "106  02:35:00  2021-0026  2021-03-15  2021   3  15  conductor    moto   \n",
       "24   05:35:00  2020-0025  2020-05-12  2020   5  12     peaton  peaton   \n",
       "1    20:00:00  2020-0002  2020-01-05  2020   1   5  conductor    moto   \n",
       "90   08:00:00  2021-0010  2021-01-23  2021   1  23  conductor    moto   \n",
       "8    14:50:00  2020-0009  2020-02-04  2020   2   4     peaton  peaton   \n",
       "89   05:30:00  2021-0009  2021-01-23  2021   1  23  conductor    moto   \n",
       "108  17:20:00  2021-0028  2021-03-29  2021   3  29     peaton  peaton   \n",
       "\n",
       "          sexo  edad fecha_fallecimiento  \n",
       "82    femenino    47          2021-01-07  \n",
       "67   masculino    51          2020-12-11  \n",
       "92   masculino     0          2021-01-29  \n",
       "106  masculino    36          2021-03-15  \n",
       "24   masculino     0          2020-05-12  \n",
       "1    masculino    36          2020-01-07  \n",
       "90   masculino    28          2021-01-23  \n",
       "8    masculino    48          2020-02-05  \n",
       "89   masculino    31          2021-01-23  \n",
       "108  masculino     0          2021-03-29  "
      ]
     },
     "execution_count": 32,
     "metadata": {},
     "output_type": "execute_result"
    }
   ],
   "source": [
    "df_hechos_victimas.sample(10)"
   ]
  },
  {
   "cell_type": "code",
   "execution_count": 11,
   "metadata": {},
   "outputs": [
    {
     "name": "stdout",
     "output_type": "stream",
     "text": [
      "<class 'pandas.core.frame.DataFrame'>\n",
      "RangeIndex: 178 entries, 0 to 177\n",
      "Data columns (total 20 columns):\n",
      " #   Column               Non-Null Count  Dtype \n",
      "---  ------               --------------  ----- \n",
      " 0   id                   178 non-null    object\n",
      " 1   n_victimas           178 non-null    int64 \n",
      " 2   lugar_del_hecho      178 non-null    object\n",
      " 3   comuna               178 non-null    int64 \n",
      " 4   altura               178 non-null    object\n",
      " 5   participantes        178 non-null    object\n",
      " 6   calle                178 non-null    object\n",
      " 7   acusado              178 non-null    object\n",
      " 8   tipo_de_calle        178 non-null    object\n",
      " 9   hora                 178 non-null    object\n",
      " 10  id_hecho             178 non-null    object\n",
      " 11  fecha                178 non-null    object\n",
      " 12  aaaa                 178 non-null    int64 \n",
      " 13  mm                   178 non-null    int64 \n",
      " 14  dd                   178 non-null    int64 \n",
      " 15  rol                  178 non-null    object\n",
      " 16  victima              178 non-null    object\n",
      " 17  sexo                 178 non-null    object\n",
      " 18  edad                 178 non-null    int64 \n",
      " 19  fecha_fallecimiento  178 non-null    object\n",
      "dtypes: int64(6), object(14)\n",
      "memory usage: 27.9+ KB\n"
     ]
    }
   ],
   "source": [
    "df_hechos_victimas.info()"
   ]
  },
  {
   "cell_type": "markdown",
   "metadata": {},
   "source": [
    "KPIS Nro. 1"
   ]
  },
  {
   "cell_type": "markdown",
   "metadata": {},
   "source": [
    "Reducir en un 10% la tasa de homicidios en siniestros viales de los últimos seis meses, en CABA, en comparación con la tasa de homicidios en siniestros viales del semestre anterior\n",
    "- Dato: censo 2022. Población total CABA: 3.120.612 -\n",
    "Fuente: https://censo.gob.ar/index.php/datos_provisionales/"
   ]
  },
  {
   "cell_type": "code",
   "execution_count": 12,
   "metadata": {},
   "outputs": [
    {
     "name": "stdout",
     "output_type": "stream",
     "text": [
      "julio-diciembre 2021 : 40 victimas\n",
      "enero-junio 2021 : 56 victimas\n"
     ]
    }
   ],
   "source": [
    "# Filtrar los datos para el último semestre (julio - diciembre de 2021)\n",
    "filtro_ultimo_semestre = (df_hechos_victimas['fecha_fallecimiento'] >= '2021-07-01') & (df_hechos_victimas['fecha_fallecimiento'] <= '2021-12-31')\n",
    "df_ultimo_semestre = df_hechos_victimas[filtro_ultimo_semestre]\n",
    "\n",
    "# Filtrar los datos para el semestre anterior (enero - junio de 2021)\n",
    "filtro_semestre_anterior = (df_hechos_victimas['fecha_fallecimiento'] >= '2021-01-01') & (df_hechos_victimas['fecha_fallecimiento'] <= '2021-06-30')\n",
    "df_semestre_anterior = df_hechos_victimas[filtro_semestre_anterior]\n",
    "\n",
    "# Calcular el número de víctimas fatales en cada semestre\n",
    "num_victimas_ultimo_semestre = df_ultimo_semestre['n_victimas'].sum()\n",
    "num_victimas_semestre_anterior = df_semestre_anterior['n_victimas'].sum()\n",
    "\n",
    "print(\"julio-diciembre 2021 :\", num_victimas_ultimo_semestre, (\"victimas\"))\n",
    "print(\"enero-junio 2021 :\", num_victimas_semestre_anterior, (\"victimas\") )"
   ]
  },
  {
   "cell_type": "code",
   "execution_count": 13,
   "metadata": {},
   "outputs": [
    {
     "data": {
      "image/png": "[encoded data removed]",
      "text/plain": [
       "<Figure size 576x432 with 1 Axes>"
      ]
     },
     "metadata": {
      "needs_background": "light"
     },
     "output_type": "display_data"
    },
    {
     "name": "stdout",
     "output_type": "stream",
     "text": [
      "Se ha cumplido el objetivo de reducción del 10%.\n"
     ]
    }
   ],
   "source": [
    "# Datos\n",
    "poblacion_total = 3120612\n",
    "homicidios_ultimo_semestre = 42\n",
    "homicidios_semestre_anterior = 55\n",
    "\n",
    "# Calcular la tasa de homicidios en siniestros viales del último semestre\n",
    "tasa_homicidios_ultimo_semestre = (homicidios_ultimo_semestre / poblacion_total) * 100000\n",
    "\n",
    "# Calcular la tasa de homicidios en siniestros viales del semestre anterior\n",
    "tasa_homicidios_semestre_anterior = (homicidios_semestre_anterior / poblacion_total) * 100000\n",
    "\n",
    "# Calcular la diferencia porcentual\n",
    "diferencia_porcentual = ((tasa_homicidios_semestre_anterior - tasa_homicidios_ultimo_semestre) / tasa_homicidios_semestre_anterior) * 100\n",
    "\n",
    "# Graficar la diferencia porcentual\n",
    "import matplotlib.pyplot as plt\n",
    "\n",
    "plt.figure(figsize=(8, 6))\n",
    "plt.bar(['Semestre Anterior', 'Último Semestre'], [tasa_homicidios_semestre_anterior, tasa_homicidios_ultimo_semestre], color=['red', 'blue'])\n",
    "plt.title('Comparación de Tasa de Homicidios en Siniestros Viales entre Semestres')\n",
    "plt.xlabel('Semestre')\n",
    "plt.ylabel('Tasa de Homicidios (por 100,000 habitantes)')\n",
    "plt.text(1, tasa_homicidios_ultimo_semestre + 0.5, f'Reducción: {diferencia_porcentual:.2f}%', ha='center', va='bottom', fontsize=12, color='black')\n",
    "plt.ylim(0, max(tasa_homicidios_ultimo_semestre, tasa_homicidios_semestre_anterior) + 2)\n",
    "plt.show()\n",
    "\n",
    "# Verificar si se cumplió la reducción del 10%\n",
    "if diferencia_porcentual >= 10:\n",
    "    print('Se ha cumplido el objetivo de reducción del 10%.')\n",
    "else:\n",
    "    print('No se ha cumplido el objetivo de reducción del 10%.')\n"
   ]
  },
  {
   "cell_type": "markdown",
   "metadata": {},
   "source": [
    "Se crea un CSV con las variables, para trabajarlo en Power Bi"
   ]
  },
  {
   "cell_type": "code",
   "execution_count": 14,
   "metadata": {},
   "outputs": [
    {
     "data": {
      "text/html": [
       "<div>\n",
       "<style scoped>\n",
       "    .dataframe tbody tr th:only-of-type {\n",
       "        vertical-align: middle;\n",
       "    }\n",
       "\n",
       "    .dataframe tbody tr th {\n",
       "        vertical-align: top;\n",
       "    }\n",
       "\n",
       "    .dataframe thead th {\n",
       "        text-align: right;\n",
       "    }\n",
       "</style>\n",
       "<table border=\"1\" class=\"dataframe\">\n",
       "  <thead>\n",
       "    <tr style=\"text-align: right;\">\n",
       "      <th></th>\n",
       "      <th>Semestre</th>\n",
       "      <th>Número de Víctimas</th>\n",
       "      <th>Tasa de Homicidios (por 100,000 habitantes)</th>\n",
       "      <th>Diferencia Porcentual (%)</th>\n",
       "    </tr>\n",
       "  </thead>\n",
       "  <tbody>\n",
       "    <tr>\n",
       "      <th>0</th>\n",
       "      <td>julio-diciembre 2021</td>\n",
       "      <td>40</td>\n",
       "      <td>1.345890</td>\n",
       "      <td>23.636364</td>\n",
       "    </tr>\n",
       "    <tr>\n",
       "      <th>1</th>\n",
       "      <td>enero-junio 2021</td>\n",
       "      <td>56</td>\n",
       "      <td>1.762475</td>\n",
       "      <td>NaN</td>\n",
       "    </tr>\n",
       "  </tbody>\n",
       "</table>\n",
       "</div>"
      ],
      "text/plain": [
       "               Semestre  Número de Víctimas   \n",
       "0  julio-diciembre 2021                  40  \\\n",
       "1      enero-junio 2021                  56   \n",
       "\n",
       "   Tasa de Homicidios (por 100,000 habitantes)  Diferencia Porcentual (%)  \n",
       "0                                     1.345890                  23.636364  \n",
       "1                                     1.762475                        NaN  "
      ]
     },
     "execution_count": 14,
     "metadata": {},
     "output_type": "execute_result"
    }
   ],
   "source": [
    "KPIs1 = {\n",
    "    'Semestre': ['julio-diciembre 2021', 'enero-junio 2021'],\n",
    "    'Número de Víctimas': [num_victimas_ultimo_semestre, num_victimas_semestre_anterior],\n",
    "    'Tasa de Homicidios (por 100,000 habitantes)': [tasa_homicidios_ultimo_semestre, tasa_homicidios_semestre_anterior],\n",
    "    'Diferencia Porcentual (%)': [diferencia_porcentual, None] \n",
    "}\n",
    "\n",
    "KPIs1_df = pd.DataFrame(KPIs1)\n",
    "KPIs1_df\n"
   ]
  },
  {
   "cell_type": "code",
   "execution_count": 20,
   "metadata": {},
   "outputs": [
    {
     "name": "stdout",
     "output_type": "stream",
     "text": [
      "DataFrame guardado como archivo CSV en: C:\\Users\\rossa\\Desktop\\HENRY\\PROYECTO INDIVIDUAL PB\\KPIs1_df.csv\n"
     ]
    }
   ],
   "source": [
    "ruta_csv = r\"C:\\Users\\rossa\\Desktop\\HENRY\\PROYECTO INDIVIDUAL PB\\KPIs1_df.csv\"\n",
    "\n",
    "KPIs1_df.to_csv(ruta_csv, index=False)\n",
    "\n",
    "print(\"DataFrame guardado como archivo CSV en:\", ruta_csv)"
   ]
  },
  {
   "cell_type": "markdown",
   "metadata": {},
   "source": [
    "kPIs 2"
   ]
  },
  {
   "cell_type": "markdown",
   "metadata": {},
   "source": [
    "Reducir en un 7% la cantidad de accidentes mortales de motociclistas en el último año, en CABA, respecto al año anterior"
   ]
  },
  {
   "cell_type": "code",
   "execution_count": 37,
   "metadata": {},
   "outputs": [
    {
     "data": {
      "image/png": "[encoded data removed]",
      "text/plain": [
       "<Figure size 432x288 with 1 Axes>"
      ]
     },
     "metadata": {
      "needs_background": "light"
     },
     "output_type": "display_data"
    },
    {
     "name": "stdout",
     "output_type": "stream",
     "text": [
      "No se ha cumplido el objetivo de reducción del 7%.\n"
     ]
    }
   ],
   "source": [
    "# Filtrar los datos para el año anterior.\n",
    "filtro_anterior = (df_hechos_victimas['fecha_fallecimiento'].dt.year == (2021 - 1))\n",
    "df_anterior = df_hechos_victimas[filtro_anterior]\n",
    "\n",
    "# Filtrar los datos para el año actual.\n",
    "filtro_actual = (df_hechos_victimas['fecha_fallecimiento'].dt.year == 2021)\n",
    "df_actual = df_hechos_victimas[filtro_actual]\n",
    "\n",
    "# Contar el número de muertes de motociclistas para el año anterior y actual.\n",
    "muertes_anterior = df_anterior[df_anterior['victima'] == 'moto'].shape[0]\n",
    "muertes_actual = df_actual[df_actual['victima'] == 'moto'].shape[0]\n",
    "\n",
    "# Calcular el porcentaje de cambio.\n",
    "porcentaje_cambio = ((muertes_actual - muertes_anterior) / muertes_anterior) * 100\n",
    "\n",
    "# Graficar los resultados.\n",
    "plt.figure(figsize=(6, 4))\n",
    "plt.bar(['2020', '2021'], [muertes_anterior, muertes_actual], color=['blue', 'green'])\n",
    "plt.title('Muertes de Motociclistas (2020 vs. 2021)')\n",
    "plt.xlabel('Año')\n",
    "plt.ylabel('Número de Muertes')\n",
    "plt.ylim(0, max(muertes_anterior, muertes_actual) + 10)\n",
    "\n",
    "# Mostrar el resultado de forma genérica\n",
    "if porcentaje_cambio <= -7:\n",
    "    mensaje = f'Reducción del {abs(porcentaje_cambio):.2f}%  de muertes de motociclistas.'\n",
    "else:\n",
    "    mensaje = f'Aumento del {abs(porcentaje_cambio):.2f}%  de muertes de motociclistas.'\n",
    "\n",
    "plt.annotate(mensaje, (0.5, max(muertes_anterior, muertes_actual) + 5), ha='center', fontsize=12)\n",
    "plt.show()\n",
    "\n",
    "# Verificar si se cumplió la reducción del 7%\n",
    "if porcentaje_cambio <= -7:\n",
    "    print('Se ha cumplido el objetivo de reducción del 7%.')\n",
    "else:\n",
    "    print('No se ha cumplido el objetivo de reducción del 7%.')\n"
   ]
  },
  {
   "cell_type": "code",
   "execution_count": 64,
   "metadata": {},
   "outputs": [
    {
     "name": "stdout",
     "output_type": "stream",
     "text": [
      "Porcentaje de muertes en 2020: 45.45%\n",
      "Porcentaje de muertes en 2021: 54.55%\n",
      "Diferencia en porcentaje entre 2020 y 2021: 20.00%\n"
     ]
    }
   ],
   "source": [
    "# Filtrar los datos para el año 2020.\n",
    "filtro_2020 = (df_hechos_victimas['fecha_fallecimiento'].dt.year == 2020)\n",
    "df_2020 = df_hechos_victimas[filtro_2020]\n",
    "\n",
    "# Filtrar los datos para el año 2021.\n",
    "filtro_2021 = (df_hechos_victimas['fecha_fallecimiento'].dt.year == 2021)\n",
    "df_2021 = df_hechos_victimas[filtro_2021]\n",
    "\n",
    "# Contar el número total de muertes en 2020 y 2021.\n",
    "total_muertes_2020 = df_2020.shape[0]\n",
    "total_muertes_2021 = df_2021.shape[0]\n",
    "\n",
    "# Calcular el porcentaje de cambio.\n",
    "porcentaje_cambio = ((total_muertes_2021 - total_muertes_2020) / total_muertes_2020) * 100\n",
    "\n",
    "# Imprimir el porcentaje de muertes en 2020 y 2021, así como la diferencia.\n",
    "print(f'Porcentaje de muertes en 2020: {total_muertes_2020 / (total_muertes_2020 + total_muertes_2021) * 100:.2f}%')\n",
    "print(f'Porcentaje de muertes en 2021: {total_muertes_2021 / (total_muertes_2020 + total_muertes_2021) * 100:.2f}%')\n",
    "print(f'Diferencia en porcentaje entre 2020 y 2021: {porcentaje_cambio:.2f}%')\n"
   ]
  },
  {
   "cell_type": "markdown",
   "metadata": {},
   "source": [
    "Creación de un DF para transformarlo en un csv con las variables calculadas para graficar en Power BI. "
   ]
  },
  {
   "cell_type": "code",
   "execution_count": 46,
   "metadata": {},
   "outputs": [
    {
     "data": {
      "text/html": [
       "<div>\n",
       "<style scoped>\n",
       "    .dataframe tbody tr th:only-of-type {\n",
       "        vertical-align: middle;\n",
       "    }\n",
       "\n",
       "    .dataframe tbody tr th {\n",
       "        vertical-align: top;\n",
       "    }\n",
       "\n",
       "    .dataframe thead th {\n",
       "        text-align: right;\n",
       "    }\n",
       "</style>\n",
       "<table border=\"1\" class=\"dataframe\">\n",
       "  <thead>\n",
       "    <tr style=\"text-align: right;\">\n",
       "      <th></th>\n",
       "      <th>ano</th>\n",
       "      <th>muertes_motociclistas</th>\n",
       "      <th>porcentaje_cambio</th>\n",
       "    </tr>\n",
       "  </thead>\n",
       "  <tbody>\n",
       "    <tr>\n",
       "      <th>0</th>\n",
       "      <td>2020</td>\n",
       "      <td>29</td>\n",
       "      <td>55.172414</td>\n",
       "    </tr>\n",
       "    <tr>\n",
       "      <th>1</th>\n",
       "      <td>2021</td>\n",
       "      <td>45</td>\n",
       "      <td>55.172414</td>\n",
       "    </tr>\n",
       "  </tbody>\n",
       "</table>\n",
       "</div>"
      ],
      "text/plain": [
       "    ano  muertes_motociclistas   porcentaje_cambio\n",
       "0  2020                      29          55.172414\n",
       "1  2021                      45          55.172414"
      ]
     },
     "execution_count": 46,
     "metadata": {},
     "output_type": "execute_result"
    }
   ],
   "source": [
    "# Filtrar los datos para el año anterior.\n",
    "filtro_anterior = (df_hechos_victimas['fecha_fallecimiento'].dt.year == (2021 - 1))\n",
    "df_anterior = df_hechos_victimas[filtro_anterior]\n",
    "\n",
    "# Filtrar los datos para el año actual.\n",
    "filtro_actual = (df_hechos_victimas['fecha_fallecimiento'].dt.year == 2021)\n",
    "df_actual = df_hechos_victimas[filtro_actual]\n",
    "\n",
    "# Contar el número de muertes de motociclistas para el año anterior y actual.\n",
    "muertes_anterior = df_anterior[df_anterior['victima'] == 'moto'].shape[0]\n",
    "muertes_actual = df_actual[df_actual['victima'] == 'moto'].shape[0]\n",
    "\n",
    "# Calcular el porcentaje de cambio.\n",
    "porcentaje_cambio = ((muertes_actual - muertes_anterior) / muertes_anterior) * 100\n",
    "\n",
    "# DataFrame reducido con las variables necesarias\n",
    "data = {\n",
    "    'ano': ['2020', '2021'],\n",
    "    'muertes_motociclistas ': [muertes_anterior, muertes_actual],\n",
    "    'porcentaje_cambio': [porcentaje_cambio, porcentaje_cambio],  # se agrega el mismo valor para ambos años\n",
    "}\n",
    "\n",
    "df_kPI2 = pd.DataFrame(data)\n",
    "\n",
    "\n",
    "df_kPI2\n"
   ]
  },
  {
   "cell_type": "code",
   "execution_count": 75,
   "metadata": {},
   "outputs": [
    {
     "name": "stdout",
     "output_type": "stream",
     "text": [
      "DataFrame guardado como archivo CSV en: C:\\Users\\rossa\\Desktop\\HENRY\\PROYECTO INDIVIDUAL PB\\Proyecto_siniestros_viales\\df_kPI2.csv\n"
     ]
    }
   ],
   "source": [
    "ruta_csv = r\"C:\\Users\\rossa\\Desktop\\HENRY\\PROYECTO INDIVIDUAL PB\\Proyecto_siniestros_viales\\df_kPI2.csv\"\n",
    "\n",
    "df_kPI2.to_csv(ruta_csv, index=False)\n",
    "\n",
    "print(\"DataFrame guardado como archivo CSV en:\", ruta_csv)"
   ]
  },
  {
   "cell_type": "markdown",
   "metadata": {},
   "source": [
    "KPIs 3 (propuesta)"
   ]
  },
  {
   "cell_type": "markdown",
   "metadata": {},
   "source": [
    "Reducir en un 5% la cantidad de accidentes mortales de autos en el último añsemestre del año 2021,  respecto al semestre anterior"
   ]
  },
  {
   "cell_type": "code",
   "execution_count": 33,
   "metadata": {},
   "outputs": [
    {
     "name": "stderr",
     "output_type": "stream",
     "text": [
      "C:\\Users\\rossa\\AppData\\Local\\Temp\\ipykernel_108424\\2468855286.py:12: SettingWithCopyWarning: \n",
      "A value is trying to be set on a copy of a slice from a DataFrame.\n",
      "Try using .loc[row_indexer,col_indexer] = value instead\n",
      "\n",
      "See the caveats in the documentation: https://pandas.pydata.org/pandas-docs/stable/user_guide/indexing.html#returning-a-view-versus-a-copy\n",
      "  df_2021_autos['semestre'] = df_2021_autos['fecha_fallecimiento'].apply(lambda x: '1er Semestre' if x.month <= 6 else '2do Semestre')\n"
     ]
    },
    {
     "name": "stdout",
     "output_type": "stream",
     "text": [
      "No se ha cumplido el objetivo de reducción del 5%.\n"
     ]
    },
    {
     "data": {
      "image/png": "[encoded data removed]",
      "text/plain": [
       "<Figure size 576x432 with 1 Axes>"
      ]
     },
     "metadata": {
      "needs_background": "light"
     },
     "output_type": "display_data"
    }
   ],
   "source": [
    "\n",
    "df_hechos_victimas['fecha_fallecimiento'] = pd.to_datetime(df_hechos_victimas['fecha_fallecimiento'])\n",
    "\n",
    "# Filtrar los datos para incluir solo registros del año 2021 y víctimas que sean automovilistas\n",
    "df_2021_autos = df_hechos_victimas[(df_hechos_victimas['fecha_fallecimiento'].dt.year == 2021) & (df_hechos_victimas['acusado'] == 'auto')]\n",
    "\n",
    "# Crear una nueva columna \"semestre\" basada en la fecha\n",
    "df_2021_autos['semestre'] = df_2021_autos['fecha_fallecimiento'].apply(lambda x: '1er Semestre' if x.month <= 6 else '2do Semestre')\n",
    "\n",
    "# Calcular la distribución de accidentes por semestre\n",
    "distribucion_semestre = df_2021_autos['semestre'].value_counts().sort_index()\n",
    "\n",
    "# Definir colores para cada semestre\n",
    "colores = ['orange', 'red']\n",
    "\n",
    "# Graficar la distribución por semestre\n",
    "plt.figure(figsize=(8, 6))\n",
    "distribucion_semestre.plot(kind='bar', color=colores)\n",
    "plt.xlabel('Semestre')\n",
    "plt.ylabel('Número de Accidentes de Automovilistas')\n",
    "plt.title('Distribución de Accidentes de Automovilistas por Semestre en 2021')\n",
    "plt.xticks(rotation=0)\n",
    "\n",
    "# Calcular el objetivo (reducción del 5%)\n",
    "objetivo = distribucion_semestre['1er Semestre'] * 0.95  # Reducción del 5%\n",
    "\n",
    "# Verificar si se cumple el objetivo\n",
    "if distribucion_semestre['2do Semestre'] <= objetivo:\n",
    "    print('Se ha cumplido el objetivo de reducción del 5%.')\n",
    "else:\n",
    "    print('No se ha cumplido el objetivo de reducción del 5%.')\n",
    "    \n",
    "plt.show()\n",
    "\n",
    "\n"
   ]
  },
  {
   "cell_type": "code",
   "execution_count": 71,
   "metadata": {},
   "outputs": [
    {
     "name": "stdout",
     "output_type": "stream",
     "text": [
      "Diferencia en porcentaje entre el 1er y 2do semestre: 21.43%\n",
      "No se ha cumplido el objetivo de reducción del 5%.\n"
     ]
    }
   ],
   "source": [
    "diferencia_porcentaje = ((distribucion_semestre['2do Semestre'] - distribucion_semestre['1er Semestre']) / distribucion_semestre['1er Semestre']) * 100\n",
    "\n",
    "# Mostrar la diferencia en porcentaje \n",
    "print(f'Diferencia en porcentaje entre el 1er y 2do semestre: {diferencia_porcentaje:.2f}%')\n",
    "\n",
    "# Verificar si se cumple el objetivo (reducción del 5%)\n",
    "if diferencia_porcentaje <= -5.0:\n",
    "    print('Se ha cumplido el objetivo de reducción del 5%.')\n",
    "else:\n",
    "    print('No se ha cumplido el objetivo de reducción del 5%.')"
   ]
  },
  {
   "cell_type": "markdown",
   "metadata": {},
   "source": [
    "Creación de un DF para transformarlo en un csv con las variables calculadas para graficar en Power BI. "
   ]
  },
  {
   "cell_type": "code",
   "execution_count": 74,
   "metadata": {},
   "outputs": [
    {
     "data": {
      "text/html": [
       "<div>\n",
       "<style scoped>\n",
       "    .dataframe tbody tr th:only-of-type {\n",
       "        vertical-align: middle;\n",
       "    }\n",
       "\n",
       "    .dataframe tbody tr th {\n",
       "        vertical-align: top;\n",
       "    }\n",
       "\n",
       "    .dataframe thead th {\n",
       "        text-align: right;\n",
       "    }\n",
       "</style>\n",
       "<table border=\"1\" class=\"dataframe\">\n",
       "  <thead>\n",
       "    <tr style=\"text-align: right;\">\n",
       "      <th></th>\n",
       "      <th>Semestre</th>\n",
       "      <th>Numero_Accidentes</th>\n",
       "    </tr>\n",
       "  </thead>\n",
       "  <tbody>\n",
       "    <tr>\n",
       "      <th>0</th>\n",
       "      <td>1er Semestre</td>\n",
       "      <td>14</td>\n",
       "    </tr>\n",
       "    <tr>\n",
       "      <th>1</th>\n",
       "      <td>2do Semestre</td>\n",
       "      <td>17</td>\n",
       "    </tr>\n",
       "  </tbody>\n",
       "</table>\n",
       "</div>"
      ],
      "text/plain": [
       "       Semestre  Numero_Accidentes\n",
       "0  1er Semestre                 14\n",
       "1  2do Semestre                 17"
      ]
     },
     "execution_count": 74,
     "metadata": {},
     "output_type": "execute_result"
    }
   ],
   "source": [
    "data = {\n",
    "    'Semestre': distribucion_semestre.index,\n",
    "    'Numero_Accidentes': distribucion_semestre.values,\n",
    "}\n",
    "df_KPI_3 = pd.DataFrame(data)\n",
    "df_KPI_3"
   ]
  },
  {
   "cell_type": "code",
   "execution_count": 61,
   "metadata": {},
   "outputs": [
    {
     "name": "stdout",
     "output_type": "stream",
     "text": [
      "DataFrame guardado como archivo CSV en: C:\\Users\\rossa\\Desktop\\HENRY\\PROYECTO INDIVIDUAL PB\\Proyecto_siniestros_viales\\KPI_3.csv\n"
     ]
    }
   ],
   "source": [
    "ruta_csv = r\"C:\\Users\\rossa\\Desktop\\HENRY\\PROYECTO INDIVIDUAL PB\\Proyecto_siniestros_viales\\KPI_3.csv\"\n",
    "\n",
    "df_KPI_3.to_csv(ruta_csv, index=False)\n",
    "\n",
    "print(\"DataFrame guardado como archivo CSV en:\", ruta_csv)"
   ]
  }
 ],
 "metadata": {
  "kernelspec": {
   "display_name": "Python 3",
   "language": "python",
   "name": "python3"
  },
  "language_info": {
   "codemirror_mode": {
    "name": "ipython",
    "version": 3
   },
   "file_extension": ".py",
   "mimetype": "text/x-python",
   "name": "python",
   "nbconvert_exporter": "python",
   "pygments_lexer": "ipython3",
   "version": "3.10.6"
  },
  "orig_nbformat": 4
 },
 "nbformat": 4,
 "nbformat_minor": 2
}
