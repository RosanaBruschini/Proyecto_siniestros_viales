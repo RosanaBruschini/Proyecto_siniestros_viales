{
 "cells": [
  {
   "cell_type": "code",
   "execution_count": 2,
   "metadata": {},
   "outputs": [],
   "source": [
    "import pandas as pd\n",
    "import openpyxl\n",
    "import matplotlib.pyplot as plt"
   ]
  },
  {
   "cell_type": "code",
   "execution_count": 3,
   "metadata": {},
   "outputs": [],
   "source": [
    "# Especifica la ruta completa del archivo CSV\n",
    "ruta_csv = r\"df_hechos_victimas.csv\" \n",
    "\n",
    "# Carga el archivo CSV en un DataFrame\n",
    "df_hechos_victimas= pd.read_csv(ruta_csv)"
   ]
  },
  {
   "cell_type": "code",
   "execution_count": 9,
   "metadata": {},
   "outputs": [
    {
     "data": {
      "text/html": [
       "<div>\n",
       "<style scoped>\n",
       "    .dataframe tbody tr th:only-of-type {\n",
       "        vertical-align: middle;\n",
       "    }\n",
       "\n",
       "    .dataframe tbody tr th {\n",
       "        vertical-align: top;\n",
       "    }\n",
       "\n",
       "    .dataframe thead th {\n",
       "        text-align: right;\n",
       "    }\n",
       "</style>\n",
       "<table border=\"1\" class=\"dataframe\">\n",
       "  <thead>\n",
       "    <tr style=\"text-align: right;\">\n",
       "      <th></th>\n",
       "      <th>id</th>\n",
       "      <th>n_victimas</th>\n",
       "      <th>lugar_del_hecho</th>\n",
       "      <th>comuna</th>\n",
       "      <th>altura</th>\n",
       "      <th>participantes</th>\n",
       "      <th>calle</th>\n",
       "      <th>acusado</th>\n",
       "      <th>tipo_de_calle</th>\n",
       "      <th>hora</th>\n",
       "      <th>id_hecho</th>\n",
       "      <th>fecha</th>\n",
       "      <th>aaaa</th>\n",
       "      <th>mm</th>\n",
       "      <th>dd</th>\n",
       "      <th>rol</th>\n",
       "      <th>victima</th>\n",
       "      <th>sexo</th>\n",
       "      <th>edad</th>\n",
       "      <th>fecha_fallecimiento</th>\n",
       "    </tr>\n",
       "  </thead>\n",
       "  <tbody>\n",
       "    <tr>\n",
       "      <th>0</th>\n",
       "      <td>2020-0001</td>\n",
       "      <td>1</td>\n",
       "      <td>uriarte y loyola</td>\n",
       "      <td>15</td>\n",
       "      <td>sin dato</td>\n",
       "      <td>peaton-auto</td>\n",
       "      <td>uriarte</td>\n",
       "      <td>auto</td>\n",
       "      <td>calle</td>\n",
       "      <td>10:40:00</td>\n",
       "      <td>2020-0001</td>\n",
       "      <td>2020-01-04</td>\n",
       "      <td>2020</td>\n",
       "      <td>1</td>\n",
       "      <td>4</td>\n",
       "      <td>peaton</td>\n",
       "      <td>peaton</td>\n",
       "      <td>femenino</td>\n",
       "      <td>87</td>\n",
       "      <td>2020-01-04</td>\n",
       "    </tr>\n",
       "    <tr>\n",
       "      <th>1</th>\n",
       "      <td>2020-0002</td>\n",
       "      <td>1</td>\n",
       "      <td>saraza y varela av.</td>\n",
       "      <td>7</td>\n",
       "      <td>sin dato</td>\n",
       "      <td>moto-objeto fijo</td>\n",
       "      <td>saraza</td>\n",
       "      <td>objeto fijo</td>\n",
       "      <td>avenida</td>\n",
       "      <td>20:00:00</td>\n",
       "      <td>2020-0002</td>\n",
       "      <td>2020-01-05</td>\n",
       "      <td>2020</td>\n",
       "      <td>1</td>\n",
       "      <td>5</td>\n",
       "      <td>conductor</td>\n",
       "      <td>moto</td>\n",
       "      <td>masculino</td>\n",
       "      <td>36</td>\n",
       "      <td>2020-01-07</td>\n",
       "    </tr>\n",
       "  </tbody>\n",
       "</table>\n",
       "</div>"
      ],
      "text/plain": [
       "          id  n_victimas      lugar_del_hecho  comuna    altura   \n",
       "0  2020-0001           1     uriarte y loyola      15  sin dato  \\\n",
       "1  2020-0002           1  saraza y varela av.       7  sin dato   \n",
       "\n",
       "      participantes    calle      acusado tipo_de_calle      hora   id_hecho   \n",
       "0       peaton-auto  uriarte         auto         calle  10:40:00  2020-0001  \\\n",
       "1  moto-objeto fijo   saraza  objeto fijo       avenida  20:00:00  2020-0002   \n",
       "\n",
       "        fecha  aaaa  mm  dd        rol victima       sexo  edad   \n",
       "0  2020-01-04  2020   1   4     peaton  peaton   femenino    87  \\\n",
       "1  2020-01-05  2020   1   5  conductor    moto  masculino    36   \n",
       "\n",
       "  fecha_fallecimiento  \n",
       "0          2020-01-04  \n",
       "1          2020-01-07  "
      ]
     },
     "execution_count": 9,
     "metadata": {},
     "output_type": "execute_result"
    }
   ],
   "source": [
    "df_hechos_victimas.head(2)"
   ]
  },
  {
   "cell_type": "code",
   "execution_count": 10,
   "metadata": {},
   "outputs": [
    {
     "name": "stdout",
     "output_type": "stream",
     "text": [
      "<class 'pandas.core.frame.DataFrame'>\n",
      "RangeIndex: 178 entries, 0 to 177\n",
      "Data columns (total 20 columns):\n",
      " #   Column               Non-Null Count  Dtype \n",
      "---  ------               --------------  ----- \n",
      " 0   id                   178 non-null    object\n",
      " 1   n_victimas           178 non-null    int64 \n",
      " 2   lugar_del_hecho      178 non-null    object\n",
      " 3   comuna               178 non-null    int64 \n",
      " 4   altura               178 non-null    object\n",
      " 5   participantes        178 non-null    object\n",
      " 6   calle                178 non-null    object\n",
      " 7   acusado              178 non-null    object\n",
      " 8   tipo_de_calle        178 non-null    object\n",
      " 9   hora                 178 non-null    object\n",
      " 10  id_hecho             178 non-null    object\n",
      " 11  fecha                178 non-null    object\n",
      " 12  aaaa                 178 non-null    int64 \n",
      " 13  mm                   178 non-null    int64 \n",
      " 14  dd                   178 non-null    int64 \n",
      " 15  rol                  178 non-null    object\n",
      " 16  victima              178 non-null    object\n",
      " 17  sexo                 178 non-null    object\n",
      " 18  edad                 178 non-null    int64 \n",
      " 19  fecha_fallecimiento  178 non-null    object\n",
      "dtypes: int64(6), object(14)\n",
      "memory usage: 27.9+ KB\n"
     ]
    }
   ],
   "source": [
    "df_hechos_victimas.info()"
   ]
  },
  {
   "cell_type": "markdown",
   "metadata": {},
   "source": [
    "KPIS Nro. 1"
   ]
  },
  {
   "cell_type": "markdown",
   "metadata": {},
   "source": [
    "Reducir en un 10% la tasa de homicidios en siniestros viales de los últimos seis meses, en CABA, en comparación con la tasa de homicidios en siniestros viales del semestre anterior\n",
    "- Dato: censo 2022. Población total CABA: 3.120.612 -"
   ]
  },
  {
   "cell_type": "code",
   "execution_count": 4,
   "metadata": {},
   "outputs": [
    {
     "name": "stdout",
     "output_type": "stream",
     "text": [
      "julio-diciembre 2021 : 40 victimas\n",
      "enero-junio 2021 : 56 victimas\n"
     ]
    }
   ],
   "source": [
    "# Filtrar los datos para el último semestre (julio - diciembre de 2021)\n",
    "filtro_ultimo_semestre = (df_hechos_victimas['fecha_fallecimiento'] >= '2021-07-01') & (df_hechos_victimas['fecha_fallecimiento'] <= '2021-12-31')\n",
    "df_ultimo_semestre = df_hechos_victimas[filtro_ultimo_semestre]\n",
    "\n",
    "# Filtrar los datos para el semestre anterior (enero - junio de 2021)\n",
    "filtro_semestre_anterior = (df_hechos_victimas['fecha_fallecimiento'] >= '2021-01-01') & (df_hechos_victimas['fecha_fallecimiento'] <= '2021-06-30')\n",
    "df_semestre_anterior = df_hechos_victimas[filtro_semestre_anterior]\n",
    "\n",
    "# Calcular el número de víctimas fatales en cada semestre\n",
    "num_victimas_ultimo_semestre = df_ultimo_semestre['n_victimas'].sum()\n",
    "num_victimas_semestre_anterior = df_semestre_anterior['n_victimas'].sum()\n",
    "\n",
    "print(\"julio-diciembre 2021 :\", num_victimas_ultimo_semestre, (\"victimas\"))\n",
    "print(\"enero-junio 2021 :\", num_victimas_semestre_anterior, (\"victimas\") )"
   ]
  },
  {
   "cell_type": "code",
   "execution_count": 5,
   "metadata": {},
   "outputs": [
    {
     "data": {
      "image/png": "[encoded data removed]",
      "text/plain": [
       "<Figure size 576x432 with 1 Axes>"
      ]
     },
     "metadata": {
      "needs_background": "light"
     },
     "output_type": "display_data"
    },
    {
     "name": "stdout",
     "output_type": "stream",
     "text": [
      "Se ha cumplido el objetivo de reducción del 10%.\n"
     ]
    }
   ],
   "source": [
    "# Datos\n",
    "poblacion_total = 3120612\n",
    "homicidios_ultimo_semestre = 42\n",
    "homicidios_semestre_anterior = 55\n",
    "\n",
    "# Calcular la tasa de homicidios en siniestros viales del último semestre\n",
    "tasa_homicidios_ultimo_semestre = (homicidios_ultimo_semestre / poblacion_total) * 100000\n",
    "\n",
    "# Calcular la tasa de homicidios en siniestros viales del semestre anterior\n",
    "tasa_homicidios_semestre_anterior = (homicidios_semestre_anterior / poblacion_total) * 100000\n",
    "\n",
    "# Calcular la diferencia porcentual\n",
    "diferencia_porcentual = ((tasa_homicidios_semestre_anterior - tasa_homicidios_ultimo_semestre) / tasa_homicidios_semestre_anterior) * 100\n",
    "\n",
    "# Graficar la diferencia porcentual\n",
    "import matplotlib.pyplot as plt\n",
    "\n",
    "plt.figure(figsize=(8, 6))\n",
    "plt.bar(['Semestre Anterior', 'Último Semestre'], [tasa_homicidios_semestre_anterior, tasa_homicidios_ultimo_semestre], color=['red', 'blue'])\n",
    "plt.title('Comparación de Tasa de Homicidios en Siniestros Viales entre Semestres')\n",
    "plt.xlabel('Semestre')\n",
    "plt.ylabel('Tasa de Homicidios (por 100,000 habitantes)')\n",
    "plt.text(1, tasa_homicidios_ultimo_semestre + 0.5, f'Reducción: {diferencia_porcentual:.2f}%', ha='center', va='bottom', fontsize=12, color='black')\n",
    "plt.ylim(0, max(tasa_homicidios_ultimo_semestre, tasa_homicidios_semestre_anterior) + 2)\n",
    "plt.show()\n",
    "\n",
    "# Verificar si se cumplió la reducción del 10%\n",
    "if diferencia_porcentual >= 10:\n",
    "    print('Se ha cumplido el objetivo de reducción del 10%.')\n",
    "else:\n",
    "    print('No se ha cumplido el objetivo de reducción del 10%.')\n"
   ]
  },
  {
   "cell_type": "markdown",
   "metadata": {},
   "source": []
  },
  {
   "cell_type": "code",
   "execution_count": 6,
   "metadata": {},
   "outputs": [
    {
     "data": {
      "text/html": [
       "<div>\n",
       "<style scoped>\n",
       "    .dataframe tbody tr th:only-of-type {\n",
       "        vertical-align: middle;\n",
       "    }\n",
       "\n",
       "    .dataframe tbody tr th {\n",
       "        vertical-align: top;\n",
       "    }\n",
       "\n",
       "    .dataframe thead th {\n",
       "        text-align: right;\n",
       "    }\n",
       "</style>\n",
       "<table border=\"1\" class=\"dataframe\">\n",
       "  <thead>\n",
       "    <tr style=\"text-align: right;\">\n",
       "      <th></th>\n",
       "      <th>Semestre</th>\n",
       "      <th>Número de Víctimas</th>\n",
       "      <th>Tasa de Homicidios (por 100,000 habitantes)</th>\n",
       "      <th>Diferencia Porcentual (%)</th>\n",
       "    </tr>\n",
       "  </thead>\n",
       "  <tbody>\n",
       "    <tr>\n",
       "      <th>0</th>\n",
       "      <td>julio-diciembre 2021</td>\n",
       "      <td>40</td>\n",
       "      <td>1.345890</td>\n",
       "      <td>23.636364</td>\n",
       "    </tr>\n",
       "    <tr>\n",
       "      <th>1</th>\n",
       "      <td>enero-junio 2021</td>\n",
       "      <td>56</td>\n",
       "      <td>1.762475</td>\n",
       "      <td>NaN</td>\n",
       "    </tr>\n",
       "  </tbody>\n",
       "</table>\n",
       "</div>"
      ],
      "text/plain": [
       "               Semestre  Número de Víctimas   \n",
       "0  julio-diciembre 2021                  40  \\\n",
       "1      enero-junio 2021                  56   \n",
       "\n",
       "   Tasa de Homicidios (por 100,000 habitantes)  Diferencia Porcentual (%)  \n",
       "0                                     1.345890                  23.636364  \n",
       "1                                     1.762475                        NaN  "
      ]
     },
     "execution_count": 6,
     "metadata": {},
     "output_type": "execute_result"
    }
   ],
   "source": [
    "KPIs1 = {\n",
    "    'Semestre': ['julio-diciembre 2021', 'enero-junio 2021'],\n",
    "    'Número de Víctimas': [num_victimas_ultimo_semestre, num_victimas_semestre_anterior],\n",
    "    'Tasa de Homicidios (por 100,000 habitantes)': [tasa_homicidios_ultimo_semestre, tasa_homicidios_semestre_anterior],\n",
    "    'Diferencia Porcentual (%)': [diferencia_porcentual, None] \n",
    "}\n",
    "\n",
    "KPIs1_df = pd.DataFrame(KPIs1)\n",
    "KPIs1_df\n"
   ]
  },
  {
   "cell_type": "code",
   "execution_count": 7,
   "metadata": {},
   "outputs": [
    {
     "name": "stdout",
     "output_type": "stream",
     "text": [
      "DataFrame guardado como archivo CSV en: C:\\Users\\rossa\\Desktop\\HENRY\\PROYECTO INDIVIDUAL PB\\KPIs1_df.csv\n"
     ]
    }
   ],
   "source": [
    "ruta_csv = r\"C:\\Users\\rossa\\Desktop\\HENRY\\PROYECTO INDIVIDUAL PB\\KPIs1_df.csv\"\n",
    "\n",
    "# Guarda el DataFrame como un archivo CSV en la ubicación especificada.\n",
    "KPIs1_df.to_csv(ruta_csv, index=False)\n",
    "\n",
    "print(\"DataFrame guardado como archivo CSV en:\", ruta_csv)"
   ]
  },
  {
   "cell_type": "markdown",
   "metadata": {},
   "source": [
    "kPIs 2"
   ]
  },
  {
   "cell_type": "markdown",
   "metadata": {},
   "source": [
    "Reducir en un 7% la cantidad de accidentes mortales de motociclistas en el último año, en CABA, respecto al año anterior"
   ]
  },
  {
   "cell_type": "code",
   "execution_count": 60,
   "metadata": {},
   "outputs": [
    {
     "data": {
      "image/png": "[encoded data removed]",
      "text/plain": [
       "<Figure size 432x288 with 1 Axes>"
      ]
     },
     "metadata": {
      "needs_background": "light"
     },
     "output_type": "display_data"
    },
    {
     "name": "stdout",
     "output_type": "stream",
     "text": [
      "No se ha cumplido el objetivo de reducción del 7%.\n"
     ]
    }
   ],
   "source": [
    "# Filtrar los datos para el año anterior.\n",
    "filtro_anterior = (df_hechos_victimas['fecha_fallecimiento'].dt.year == (2021 - 1))\n",
    "df_anterior = df_hechos_victimas[filtro_anterior]\n",
    "\n",
    "# Filtrar los datos para el año actual.\n",
    "filtro_actual = (df_hechos_victimas['fecha_fallecimiento'].dt.year == 2021)\n",
    "df_actual = df_hechos_victimas[filtro_actual]\n",
    "\n",
    "# Contar el número de muertes de motociclistas para el año anterior y actual.\n",
    "muertes_anterior = df_anterior[df_anterior['victima'] == 'moto'].shape[0]\n",
    "muertes_actual = df_actual[df_actual['victima'] == 'moto'].shape[0]\n",
    "\n",
    "# Calcular el porcentaje de cambio.\n",
    "porcentaje_cambio = ((muertes_actual - muertes_anterior) / muertes_anterior) * 100\n",
    "\n",
    "# Graficar los resultados.\n",
    "plt.figure(figsize=(6, 4))\n",
    "plt.bar(['2020', '2021'], [muertes_anterior, muertes_actual], color=['blue', 'green'])\n",
    "plt.title('Muertes de Motociclistas (2020 vs. 2021)')\n",
    "plt.xlabel('Año')\n",
    "plt.ylabel('Número de Muertes')\n",
    "plt.ylim(0, max(muertes_anterior, muertes_actual) + 10)\n",
    "\n",
    "# Mostrar el resultado de forma genérica\n",
    "if porcentaje_cambio <= -7:\n",
    "    mensaje = f'Reducción del {abs(porcentaje_cambio):.2f}%  de muertes de motociclistas.'\n",
    "else:\n",
    "    mensaje = f'Aumento del {abs(porcentaje_cambio):.2f}%  de muertes de motociclistas.'\n",
    "\n",
    "plt.annotate(mensaje, (0.5, max(muertes_anterior, muertes_actual) + 5), ha='center', fontsize=12)\n",
    "plt.show()\n",
    "\n",
    "# Verificar si se cumplió la reducción del 7%\n",
    "if porcentaje_cambio <= -7:\n",
    "    print('Se ha cumplido el objetivo de reducción del 7%.')\n",
    "else:\n",
    "    print('No se ha cumplido el objetivo de reducción del 7%.')\n"
   ]
  },
  {
   "cell_type": "markdown",
   "metadata": {},
   "source": [
    "KPIs 3 (propuesta)"
   ]
  },
  {
   "cell_type": "markdown",
   "metadata": {},
   "source": [
    "Verificar la reducción del número de accidentes en la comuna con mayor accidentes, contemplando un tipo de víctima específica durante el 2020. Se compara las mismas variables en el 2021 para evaluar si se logró el objetivo de reducir un 5% los accidentes."
   ]
  },
  {
   "cell_type": "markdown",
   "metadata": {},
   "source": [
    "Se toma la métrica generada, donde se define a la comuna 1 con el mayor número de accidentes entre el 2020 y 2021."
   ]
  },
  {
   "cell_type": "code",
   "execution_count": 86,
   "metadata": {},
   "outputs": [
    {
     "data": {
      "image/png": "[encoded data removed]",
      "text/plain": [
       "<Figure size 576x432 with 1 Axes>"
      ]
     },
     "metadata": {
      "needs_background": "light"
     },
     "output_type": "display_data"
    },
    {
     "name": "stdout",
     "output_type": "stream",
     "text": [
      "Se ha cumplido el objetivo de reducción del 5%\n"
     ]
    }
   ],
   "source": [
    "\n",
    "# Definir el objetivo de reducción del 5%\n",
    "objetivo = 5\n",
    "\n",
    "# Filtrar los datos para el año 2020\n",
    "df_2020 = df_hechos_victimas[df_hechos_victimas['aaaa'] == 2020]\n",
    "\n",
    "# Calcular el número de accidentes por comuna y tipo de víctima en 2020\n",
    "accidentes_2020 = df_2020.groupby(['comuna', 'victima']).size().reset_index(name='accidentes_2020')\n",
    "\n",
    "# Encontrar la comuna con más accidentes en 2020\n",
    "comuna_max_2020 = accidentes_2020.loc[accidentes_2020['accidentes_2020'].idxmax()]['comuna']\n",
    "\n",
    "# Filtrar los datos para el año 2021\n",
    "df_2021 = df_hechos_victimas[df_hechos_victimas['aaaa'] == 2021]\n",
    "\n",
    "# Calcular el número de accidentes por comuna y tipo de víctima en 2021\n",
    "accidentes_2021 = df_2021.groupby(['comuna', 'victima']).size().reset_index(name='accidentes_2021')\n",
    "\n",
    "# Fusionar los datos de 2020 y 2021 para la comuna con más accidentes en 2020\n",
    "resultados = pd.merge(accidentes_2020, accidentes_2021, on=['comuna', 'victima'], how='left')\n",
    "\n",
    "# Rellenar NaN con 0\n",
    "resultados = resultados.fillna(0)\n",
    "\n",
    "# Calcular la reducción o aumento porcentual\n",
    "resultados['cambio'] = resultados['accidentes_2021'] - resultados['accidentes_2020']\n",
    "resultados['porcentaje_cambio'] = (resultados['cambio'] / resultados['accidentes_2020']) * 100\n",
    "\n",
    "# Visualizar los resultados en un gráfico\n",
    "plt.figure(figsize=(8, 6))\n",
    "plt.bar(['2020', '2021'], [accidentes_2020['accidentes_2020'].max(), resultados.loc[resultados['comuna'] == comuna_max_2020]['cambio'].values[0]], color=['red', 'blue'])\n",
    "plt.xlabel('Año')\n",
    "plt.ylabel('Número de Accidentes')\n",
    "plt.title(f'Comparación de Accidentes en la Comuna {comuna_max_2020} con Mayor Accidentes en 2020 (Objetivo: +/- {objetivo}%)')\n",
    "plt.xticks(rotation=0)\n",
    "\n",
    "# Destacar el porcentaje de cambio\n",
    "cambio = resultados.loc[resultados['comuna'] == comuna_max_2020]['cambio'].values[0]\n",
    "porcentaje_cambio = resultados.loc[resultados['comuna'] == comuna_max_2020]['porcentaje_cambio'].values[0]\n",
    "\n",
    "# Corrección: Verificar si se cumplió el objetivo del 5%\n",
    "cumple_objetivo = abs(porcentaje_cambio) >= objetivo\n",
    "color = 'green' if cumple_objetivo else 'red'\n",
    "\n",
    "# Mostrar el número de comuna y tipo de víctima en la etiqueta\n",
    "comuna_victima = f'Tipo de Víctima: {resultados.loc[resultados[\"comuna\"] == comuna_max_2020][\"victima\"].values[0]}'\n",
    "plt.text(0, accidentes_2020['accidentes_2020'].max(), comuna_victima, ha='center', va='bottom', color='black')\n",
    "\n",
    "# Mostrar el porcentaje de cambio\n",
    "plt.text(1, resultados.loc[resultados['comuna'] == comuna_max_2020]['cambio'].values[0] + 5, f'{porcentaje_cambio:.2f}%', ha='center', va='bottom', fontsize=12, color=color)\n",
    "\n",
    "# Mostrar si se cumplió o no el objetivo\n",
    "plt.text(1, -5, f\"{'Cumple Objetivo' if cumple_objetivo else 'No Cumple Objetivo'}\", ha='center', va='bottom', fontsize=12, color=color)\n",
    "\n",
    "plt.show()\n",
    "\n",
    "# Imprimir si se cumplió o no el objetivo\n",
    "if cumple_objetivo:\n",
    "    print(f'Se ha cumplido el objetivo de reducción del {objetivo}%')\n",
    "else:\n",
    "    print(f'No se ha cumplido el objetivo de reducción del {objetivo}%')\n"
   ]
  },
  {
   "cell_type": "markdown",
   "metadata": {},
   "source": []
  },
  {
   "cell_type": "code",
   "execution_count": null,
   "metadata": {},
   "outputs": [],
   "source": [
    "data = {\n",
    "    'Semestre': ['julio-diciembre 2021', 'enero-junio 2021'],\n",
    "    'Número de Víctimas': [num_victimas_ultimo_semestre, num_victimas_semestre_anterior]\n",
    "}\n"
   ]
  }
 ],
 "metadata": {
  "kernelspec": {
   "display_name": "Python 3",
   "language": "python",
   "name": "python3"
  },
  "language_info": {
   "codemirror_mode": {
    "name": "ipython",
    "version": 3
   },
   "file_extension": ".py",
   "mimetype": "text/x-python",
   "name": "python",
   "nbconvert_exporter": "python",
   "pygments_lexer": "ipython3",
   "version": "3.10.6"
  },
  "orig_nbformat": 4
 },
 "nbformat": 4,
 "nbformat_minor": 2
}
